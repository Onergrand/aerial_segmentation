{
 "cells": [
  {
   "cell_type": "code",
   "execution_count": 1,
   "id": "94388e3f",
   "metadata": {
    "_cell_guid": "b1076dfc-b9ad-4769-8c92-a6c4dae69d19",
    "_uuid": "8f2839f25d086af736a60e9eeb907d3b93b6e0e5",
    "execution": {
     "iopub.execute_input": "2024-07-19T13:07:08.384594Z",
     "iopub.status.busy": "2024-07-19T13:07:08.384317Z",
     "iopub.status.idle": "2024-07-19T13:07:21.965193Z",
     "shell.execute_reply": "2024-07-19T13:07:21.964423Z"
    },
    "papermill": {
     "duration": 13.592035,
     "end_time": "2024-07-19T13:07:21.967416",
     "exception": false,
     "start_time": "2024-07-19T13:07:08.375381",
     "status": "completed"
    },
    "tags": []
   },
   "outputs": [
    {
     "name": "stderr",
     "output_type": "stream",
     "text": [
      "2024-07-19 13:07:12.374823: E external/local_xla/xla/stream_executor/cuda/cuda_dnn.cc:9261] Unable to register cuDNN factory: Attempting to register factory for plugin cuDNN when one has already been registered\n",
      "2024-07-19 13:07:12.374930: E external/local_xla/xla/stream_executor/cuda/cuda_fft.cc:607] Unable to register cuFFT factory: Attempting to register factory for plugin cuFFT when one has already been registered\n",
      "2024-07-19 13:07:12.499310: E external/local_xla/xla/stream_executor/cuda/cuda_blas.cc:1515] Unable to register cuBLAS factory: Attempting to register factory for plugin cuBLAS when one has already been registered\n"
     ]
    }
   ],
   "source": [
    "import pickle\n",
    "import numpy as np\n",
    "import pandas as pd\n",
    "from PIL import Image\n",
    "import albumentations as A\n",
    "from IPython.display import SVG\n",
    "import matplotlib.pyplot as plt\n",
    "%matplotlib inline\n",
    "import os, re, sys, random, shutil, cv2\n",
    "\n",
    "import tensorflow as tf\n",
    "from tensorflow import keras\n",
    "import tensorflow.keras.backend as K\n",
    "from keras.models import Model\n",
    "from keras.optimizers import Adam, Nadam\n",
    "from keras import applications, optimizers\n",
    "from keras.applications import InceptionResNetV2\n",
    "from keras.applications.resnet50 import preprocess_input\n",
    "\n",
    "from keras.metrics import Recall, Precision, MeanSquaredError, MeanIoU\n",
    "\n",
    "from keras.preprocessing.image import load_img, img_to_array\n",
    "from tensorflow.keras.preprocessing.image import ImageDataGenerator\n",
    "from keras.utils import model_to_dot, plot_model, Sequence\n",
    "from keras.callbacks import ModelCheckpoint, ReduceLROnPlateau, EarlyStopping, CSVLogger, LearningRateScheduler\n",
    "from keras.layers import Input, Conv2D, BatchNormalization, Activation, MaxPool2D, Conv2DTranspose, Concatenate, ZeroPadding2D, Dropout"
   ]
  },
  {
   "cell_type": "code",
   "execution_count": 2,
   "id": "eb3664e7",
   "metadata": {
    "execution": {
     "iopub.execute_input": "2024-07-19T13:07:21.984371Z",
     "iopub.status.busy": "2024-07-19T13:07:21.983774Z",
     "iopub.status.idle": "2024-07-19T13:07:21.988188Z",
     "shell.execute_reply": "2024-07-19T13:07:21.987325Z"
    },
    "papermill": {
     "duration": 0.014732,
     "end_time": "2024-07-19T13:07:21.990163",
     "exception": false,
     "start_time": "2024-07-19T13:07:21.975431",
     "status": "completed"
    },
    "tags": []
   },
   "outputs": [],
   "source": [
    "# !rm -rf /kaggle/working/*"
   ]
  },
  {
   "cell_type": "code",
   "execution_count": 3,
   "id": "cd20044a",
   "metadata": {
    "execution": {
     "iopub.execute_input": "2024-07-19T13:07:22.006701Z",
     "iopub.status.busy": "2024-07-19T13:07:22.006071Z",
     "iopub.status.idle": "2024-07-19T13:07:22.010217Z",
     "shell.execute_reply": "2024-07-19T13:07:22.009381Z"
    },
    "papermill": {
     "duration": 0.014373,
     "end_time": "2024-07-19T13:07:22.011966",
     "exception": false,
     "start_time": "2024-07-19T13:07:21.997593",
     "status": "completed"
    },
    "tags": []
   },
   "outputs": [],
   "source": [
    "# Пути к папкам с изображениями и масками\n",
    "input_images_folder = '/kaggle/input/images/images'\n",
    "input_masks_folder = '/kaggle/input/masks/masks'\n",
    "\n",
    "output_images_folder = '/kaggle/working/aug_images'\n",
    "output_masks_folder = '/kaggle/working/aug_masks'"
   ]
  },
  {
   "cell_type": "code",
   "execution_count": 4,
   "id": "a46c8bd3",
   "metadata": {
    "execution": {
     "iopub.execute_input": "2024-07-19T13:07:22.028034Z",
     "iopub.status.busy": "2024-07-19T13:07:22.027748Z",
     "iopub.status.idle": "2024-07-19T13:07:22.034788Z",
     "shell.execute_reply": "2024-07-19T13:07:22.034001Z"
    },
    "papermill": {
     "duration": 0.017127,
     "end_time": "2024-07-19T13:07:22.036682",
     "exception": false,
     "start_time": "2024-07-19T13:07:22.019555",
     "status": "completed"
    },
    "tags": []
   },
   "outputs": [],
   "source": [
    "transform = A.Compose([\n",
    "    A.RandomCrop(width=512, height=512, p=1.0),\n",
    "    A.HorizontalFlip(p=1.0),\n",
    "    A.VerticalFlip(p=1.0),\n",
    "    A.Rotate(limit=[60, 300], p=1.0, interpolation=cv2.INTER_NEAREST),\n",
    "    A.RandomBrightnessContrast(brightness_limit=[-0.2, 0.3], contrast_limit=0.2, p=1.0),\n",
    "    A.OneOf([\n",
    "        A.CLAHE (clip_limit=1.5, tile_grid_size=(8, 8), p=0.5),\n",
    "        A.GridDistortion(p=0.5),\n",
    "        A.OpticalDistortion(distort_limit=1, shift_limit=0.5, interpolation=cv2.INTER_NEAREST, p=0.5),\n",
    "    ], p=1.0),\n",
    "], p=1.0)"
   ]
  },
  {
   "cell_type": "code",
   "execution_count": 5,
   "id": "100df849",
   "metadata": {
    "execution": {
     "iopub.execute_input": "2024-07-19T13:07:22.053082Z",
     "iopub.status.busy": "2024-07-19T13:07:22.052761Z",
     "iopub.status.idle": "2024-07-19T13:07:22.184043Z",
     "shell.execute_reply": "2024-07-19T13:07:22.183400Z"
    },
    "papermill": {
     "duration": 0.141464,
     "end_time": "2024-07-19T13:07:22.185963",
     "exception": false,
     "start_time": "2024-07-19T13:07:22.044499",
     "status": "completed"
    },
    "tags": []
   },
   "outputs": [],
   "source": [
    "os.makedirs(output_images_folder, exist_ok=True)\n",
    "os.makedirs(output_masks_folder, exist_ok=True)\n",
    "\n",
    "image_files = os.listdir(input_images_folder)\n",
    "# Фильтруем только изображения\n",
    "image_files = [f for f in image_files if f.endswith('.jpg') or f.endswith('.png')]"
   ]
  },
  {
   "cell_type": "code",
   "execution_count": 6,
   "id": "62d96480",
   "metadata": {
    "execution": {
     "iopub.execute_input": "2024-07-19T13:07:22.201897Z",
     "iopub.status.busy": "2024-07-19T13:07:22.201624Z",
     "iopub.status.idle": "2024-07-19T13:07:31.271555Z",
     "shell.execute_reply": "2024-07-19T13:07:31.270738Z"
    },
    "papermill": {
     "duration": 9.080288,
     "end_time": "2024-07-19T13:07:31.273874",
     "exception": false,
     "start_time": "2024-07-19T13:07:22.193586",
     "status": "completed"
    },
    "tags": []
   },
   "outputs": [],
   "source": [
    "image_files = os.listdir(input_images_folder)\n",
    "for image_file in image_files:\n",
    "    src_image_path = os.path.join(input_images_folder, image_file)\n",
    "    dst_image_path = os.path.join(output_images_folder, image_file)\n",
    "    shutil.copyfile(src_image_path, dst_image_path)\n",
    "\n",
    "    mask_file = image_file.replace('.jpg', '.png')  # предполагаем, что маски в формате PNG\n",
    "    src_mask_path = os.path.join(input_masks_folder, mask_file)\n",
    "    dst_mask_path = os.path.join(output_masks_folder, mask_file)\n",
    "    shutil.copyfile(src_mask_path, dst_mask_path)"
   ]
  },
  {
   "cell_type": "code",
   "execution_count": 7,
   "id": "2b28b340",
   "metadata": {
    "execution": {
     "iopub.execute_input": "2024-07-19T13:07:31.290581Z",
     "iopub.status.busy": "2024-07-19T13:07:31.290291Z",
     "iopub.status.idle": "2024-07-19T13:07:56.368145Z",
     "shell.execute_reply": "2024-07-19T13:07:56.367226Z"
    },
    "papermill": {
     "duration": 25.089899,
     "end_time": "2024-07-19T13:07:56.371615",
     "exception": false,
     "start_time": "2024-07-19T13:07:31.281716",
     "status": "completed"
    },
    "tags": []
   },
   "outputs": [
    {
     "name": "stderr",
     "output_type": "stream",
     "text": [
      "Augmenting images: 100%|██████████| 585/585 [00:25<00:00, 23.34it/s]"
     ]
    },
    {
     "name": "stdout",
     "output_type": "stream",
     "text": [
      "Augmentation finished. Augmented images and masks are saved in /kaggle/working/aug_images and /kaggle/working/aug_masks\n"
     ]
    },
    {
     "name": "stderr",
     "output_type": "stream",
     "text": [
      "\n"
     ]
    }
   ],
   "source": [
    "from tqdm import tqdm\n",
    "# Проходимся по каждому изображению\n",
    "for image_file in tqdm(image_files, desc='Augmenting images'):\n",
    "    # Загружаем изображение\n",
    "    image_path = os.path.join(output_images_folder, image_file)\n",
    "    image = cv2.imread(image_path)\n",
    "    image = cv2.cvtColor(image, cv2.COLOR_BGR2RGB)\n",
    "\n",
    "    # Загружаем маску (предполагается, что маски имеют те же имена и тот же формат, что и изображения)\n",
    "    mask_file = image_file.replace('.jpg', '.png')\n",
    "    mask_path = os.path.join(output_masks_folder, mask_file)\n",
    "    mask = cv2.imread(mask_path, cv2.COLOR_BGR2RGB)\n",
    "\n",
    "    # Применяем аугментацию к изображению и маске\n",
    "    augmented = transform(image=image, mask=mask)\n",
    "    augmented_image = augmented['image']\n",
    "    augmented_mask = augmented['mask']\n",
    "\n",
    "    # Сохраняем аугментированное изображение и маску\n",
    "    output_image_path = os.path.join(output_images_folder, f\"aug_{image_file}\")\n",
    "    output_mask_path = os.path.join(output_masks_folder, f\"aug_{mask_file}\")\n",
    "    cv2.imwrite(output_image_path, cv2.cvtColor(augmented_image, cv2.COLOR_RGB2BGR))  # сохраняем обратно в BGR\n",
    "    cv2.imwrite(output_mask_path, augmented_mask)\n",
    "\n",
    "print(f\"Augmentation finished. Augmented images and masks are saved in {output_images_folder} and {output_masks_folder}\")"
   ]
  },
  {
   "cell_type": "code",
   "execution_count": 8,
   "id": "bd712856",
   "metadata": {
    "execution": {
     "iopub.execute_input": "2024-07-19T13:07:56.420060Z",
     "iopub.status.busy": "2024-07-19T13:07:56.419765Z",
     "iopub.status.idle": "2024-07-19T13:07:56.450546Z",
     "shell.execute_reply": "2024-07-19T13:07:56.449828Z"
    },
    "papermill": {
     "duration": 0.056677,
     "end_time": "2024-07-19T13:07:56.452370",
     "exception": false,
     "start_time": "2024-07-19T13:07:56.395693",
     "status": "completed"
    },
    "tags": []
   },
   "outputs": [],
   "source": [
    "images_dir = output_images_folder\n",
    "masks_dir = output_masks_folder\n",
    "\n",
    "from sklearn.model_selection import train_test_split\n",
    "\n",
    "# Получение всех путей к изображениям и маскам\n",
    "images = [os.path.join(images_dir, f) for f in os.listdir(images_dir) if os.path.isfile(os.path.join(images_dir, f))]\n",
    "masks = [os.path.join(masks_dir, f) for f in os.listdir(masks_dir) if os.path.isfile(os.path.join(masks_dir, f))]\n",
    "\n",
    "images.sort()\n",
    "masks.sort()\n",
    "\n",
    "# Смешивание изображений и их масок\n",
    "data = list(zip(images, masks))\n",
    "\n",
    "# Разделение на train и val\n",
    "train_data, val_data = train_test_split(data, test_size=0.2, random_state=42)\n",
    "\n",
    "train_images, train_masks = zip(*train_data)\n",
    "val_images, val_masks = zip(*val_data)\n"
   ]
  },
  {
   "cell_type": "code",
   "execution_count": 9,
   "id": "0dcc5d9e",
   "metadata": {
    "execution": {
     "iopub.execute_input": "2024-07-19T13:07:56.498950Z",
     "iopub.status.busy": "2024-07-19T13:07:56.498702Z",
     "iopub.status.idle": "2024-07-19T13:07:56.527902Z",
     "shell.execute_reply": "2024-07-19T13:07:56.527037Z"
    },
    "papermill": {
     "duration": 0.054678,
     "end_time": "2024-07-19T13:07:56.529907",
     "exception": false,
     "start_time": "2024-07-19T13:07:56.475229",
     "status": "completed"
    },
    "tags": []
   },
   "outputs": [
    {
     "data": {
      "text/html": [
       "<div>\n",
       "<style scoped>\n",
       "    .dataframe tbody tr th:only-of-type {\n",
       "        vertical-align: middle;\n",
       "    }\n",
       "\n",
       "    .dataframe tbody tr th {\n",
       "        vertical-align: top;\n",
       "    }\n",
       "\n",
       "    .dataframe thead th {\n",
       "        text-align: right;\n",
       "    }\n",
       "</style>\n",
       "<table border=\"1\" class=\"dataframe\">\n",
       "  <thead>\n",
       "    <tr style=\"text-align: right;\">\n",
       "      <th></th>\n",
       "      <th>name</th>\n",
       "      <th>r</th>\n",
       "      <th>g</th>\n",
       "      <th>b</th>\n",
       "    </tr>\n",
       "  </thead>\n",
       "  <tbody>\n",
       "    <tr>\n",
       "      <th>0</th>\n",
       "      <td>building</td>\n",
       "      <td>255</td>\n",
       "      <td>255</td>\n",
       "      <td>0</td>\n",
       "    </tr>\n",
       "    <tr>\n",
       "      <th>1</th>\n",
       "      <td>road</td>\n",
       "      <td>255</td>\n",
       "      <td>0</td>\n",
       "      <td>0</td>\n",
       "    </tr>\n",
       "    <tr>\n",
       "      <th>2</th>\n",
       "      <td>vegetation</td>\n",
       "      <td>0</td>\n",
       "      <td>255</td>\n",
       "      <td>0</td>\n",
       "    </tr>\n",
       "    <tr>\n",
       "      <th>3</th>\n",
       "      <td>water</td>\n",
       "      <td>0</td>\n",
       "      <td>0</td>\n",
       "      <td>255</td>\n",
       "    </tr>\n",
       "    <tr>\n",
       "      <th>4</th>\n",
       "      <td>unlabeled</td>\n",
       "      <td>0</td>\n",
       "      <td>0</td>\n",
       "      <td>0</td>\n",
       "    </tr>\n",
       "  </tbody>\n",
       "</table>\n",
       "</div>"
      ],
      "text/plain": [
       "         name    r    g    b\n",
       "0    building  255  255    0\n",
       "1        road  255    0    0\n",
       "2  vegetation    0  255    0\n",
       "3       water    0    0  255\n",
       "4   unlabeled    0    0    0"
      ]
     },
     "execution_count": 9,
     "metadata": {},
     "output_type": "execute_result"
    }
   ],
   "source": [
    "class_dict_df = pd.read_csv('/kaggle/input/class_dict.csv', index_col=False, skipinitialspace=True, sep=';')\n",
    "class_dict_df"
   ]
  },
  {
   "cell_type": "code",
   "execution_count": 10,
   "id": "ba6d4227",
   "metadata": {
    "execution": {
     "iopub.execute_input": "2024-07-19T13:07:56.577596Z",
     "iopub.status.busy": "2024-07-19T13:07:56.577338Z",
     "iopub.status.idle": "2024-07-19T13:07:56.588436Z",
     "shell.execute_reply": "2024-07-19T13:07:56.587587Z"
    },
    "papermill": {
     "duration": 0.03677,
     "end_time": "2024-07-19T13:07:56.590344",
     "exception": false,
     "start_time": "2024-07-19T13:07:56.553574",
     "status": "completed"
    },
    "tags": []
   },
   "outputs": [],
   "source": [
    "label_codes = tuple(map(tuple, class_dict_df[['r', 'g', 'b']].values))\n",
    "code2id = {v:k for k,v in enumerate(label_codes)}\n",
    "id2code = {k:v for k,v in enumerate(label_codes)}\n",
    "\n",
    "name2id = {v:k for k,v in enumerate(class_dict_df['name'].values)}\n",
    "id2name = {k:v for k,v in enumerate(class_dict_df['name'].values)}"
   ]
  },
  {
   "cell_type": "code",
   "execution_count": 11,
   "id": "d22be8cd",
   "metadata": {
    "execution": {
     "iopub.execute_input": "2024-07-19T13:07:56.636890Z",
     "iopub.status.busy": "2024-07-19T13:07:56.636615Z",
     "iopub.status.idle": "2024-07-19T13:07:56.644636Z",
     "shell.execute_reply": "2024-07-19T13:07:56.643799Z"
    },
    "papermill": {
     "duration": 0.033536,
     "end_time": "2024-07-19T13:07:56.646745",
     "exception": false,
     "start_time": "2024-07-19T13:07:56.613209",
     "status": "completed"
    },
    "tags": []
   },
   "outputs": [],
   "source": [
    "def rgb_to_onehot(rgb_image, colormap = id2code):\n",
    "    '''Function to one hot encode RGB mask labels\n",
    "        Inputs:\n",
    "            rgb_image - image matrix (eg. 256 x 256 x 3 dimension numpy ndarray)\n",
    "            colormap - dictionary of color to label id\n",
    "        Output: One hot encoded image of dimensions (height x width x num_classes) where num_classes = len(colormap)\n",
    "    '''\n",
    "    num_classes = len(colormap)\n",
    "    shape = rgb_image.shape[:2]+(num_classes,)\n",
    "    encoded_image = np.zeros( shape, dtype=np.int8 )\n",
    "    for i, cls in enumerate(colormap):\n",
    "        encoded_image[:,:,i] = np.all(rgb_image.reshape( (-1,3) ) == colormap[i], axis=1).reshape(shape[:2])\n",
    "    return encoded_image\n",
    "\n",
    "\n",
    "def onehot_to_rgb(onehot, colormap = id2code):\n",
    "    '''Function to decode encoded mask labels\n",
    "        Inputs:\n",
    "            onehot - one hot encoded image matrix (height x width x num_classes)\n",
    "            colormap - dictionary of color to label id\n",
    "        Output: Decoded RGB image (height x width x 3)\n",
    "    '''\n",
    "    single_layer = np.argmax(onehot, axis=-1)\n",
    "    output = np.zeros( onehot.shape[:2]+(3,) )\n",
    "    for k in colormap.keys():\n",
    "        output[single_layer==k] = colormap[k]\n",
    "    return np.uint8(output)"
   ]
  },
  {
   "cell_type": "code",
   "execution_count": 12,
   "id": "07787d09",
   "metadata": {
    "execution": {
     "iopub.execute_input": "2024-07-19T13:07:56.694644Z",
     "iopub.status.busy": "2024-07-19T13:07:56.694370Z",
     "iopub.status.idle": "2024-07-19T13:07:56.700062Z",
     "shell.execute_reply": "2024-07-19T13:07:56.699285Z"
    },
    "papermill": {
     "duration": 0.032447,
     "end_time": "2024-07-19T13:07:56.701929",
     "exception": false,
     "start_time": "2024-07-19T13:07:56.669482",
     "status": "completed"
    },
    "tags": []
   },
   "outputs": [],
   "source": [
    "def histogram_normalization(image):\n",
    "\n",
    "    image_clahe = np.zeros_like(image, dtype=np.uint8)\n",
    "    for channel in range(3):\n",
    "        channel_img = image[:,:,channel].astype(np.uint8)\n",
    "        clahe = cv2.createCLAHE(clipLimit=5)\n",
    "        channel_clahe = clahe.apply(channel_img)\n",
    "        channel_clahe = np.clip(channel_clahe + 30, 0, 255).astype(np.uint8)\n",
    "        image_clahe[:,:,channel] = channel_clahe\n",
    "\n",
    "\n",
    "    return image_clahe.astype(np.float32)"
   ]
  },
  {
   "cell_type": "code",
   "execution_count": 13,
   "id": "5c5cf425",
   "metadata": {
    "execution": {
     "iopub.execute_input": "2024-07-19T13:07:56.748826Z",
     "iopub.status.busy": "2024-07-19T13:07:56.748488Z",
     "iopub.status.idle": "2024-07-19T13:07:56.753746Z",
     "shell.execute_reply": "2024-07-19T13:07:56.752895Z"
    },
    "papermill": {
     "duration": 0.030511,
     "end_time": "2024-07-19T13:07:56.755522",
     "exception": false,
     "start_time": "2024-07-19T13:07:56.725011",
     "status": "completed"
    },
    "tags": []
   },
   "outputs": [],
   "source": [
    "data_gen_args = dict(\n",
    "    preprocessing_function=histogram_normalization,\n",
    "    rescale=1./255\n",
    ")\n",
    "mask_gen_args = dict()\n",
    "\n",
    "train_frames_datagen = ImageDataGenerator(**data_gen_args)\n",
    "train_masks_datagen = ImageDataGenerator(**mask_gen_args)\n",
    "val_frames_datagen = ImageDataGenerator(**data_gen_args)\n",
    "val_masks_datagen = ImageDataGenerator(**mask_gen_args)\n",
    "\n",
    "seed = 1"
   ]
  },
  {
   "cell_type": "code",
   "execution_count": 14,
   "id": "bfd8ea2f",
   "metadata": {
    "execution": {
     "iopub.execute_input": "2024-07-19T13:07:56.802318Z",
     "iopub.status.busy": "2024-07-19T13:07:56.801852Z",
     "iopub.status.idle": "2024-07-19T13:07:56.813041Z",
     "shell.execute_reply": "2024-07-19T13:07:56.812193Z"
    },
    "papermill": {
     "duration": 0.03635,
     "end_time": "2024-07-19T13:07:56.814794",
     "exception": false,
     "start_time": "2024-07-19T13:07:56.778444",
     "status": "completed"
    },
    "tags": []
   },
   "outputs": [],
   "source": [
    "def TrainAugmentGenerator(train_images, train_masks, seed=1, batch_size=8, target_size=(512, 512)):\n",
    "    train_image_generator = train_frames_datagen.flow(\n",
    "        np.array([img_to_array(load_img(img, target_size=target_size)).astype(np.float32) for img in train_images]),\n",
    "        batch_size=batch_size,\n",
    "        seed=seed\n",
    "    )\n",
    "\n",
    "    train_mask_generator = train_masks_datagen.flow(\n",
    "        np.array([img_to_array(load_img(mask, target_size=target_size)).astype(np.float32) for mask in train_masks]),\n",
    "        batch_size=batch_size,\n",
    "        seed=seed\n",
    "    )\n",
    "\n",
    "    while True:\n",
    "        X1i = next(train_image_generator)\n",
    "        X2i = next(train_mask_generator)\n",
    "\n",
    "        mask_encoded = [rgb_to_onehot(X2i[x, :, :, :], id2code).astype(np.float32) for x in range(X2i.shape[0])]\n",
    "\n",
    "        yield X1i, np.asarray(mask_encoded)\n",
    "\n",
    "def ValAugmentGenerator(val_images, val_masks, seed=1, batch_size=8, target_size=(512, 512)):\n",
    "    val_image_generator = val_frames_datagen.flow(\n",
    "        np.array([img_to_array(load_img(img, target_size=target_size)).astype(np.float32) for img in val_images]),\n",
    "        batch_size=batch_size,\n",
    "        seed=seed\n",
    "    )\n",
    "\n",
    "    val_mask_generator = val_masks_datagen.flow(\n",
    "        np.array([img_to_array(load_img(mask, target_size=target_size)).astype(np.float32) for mask in val_masks]),\n",
    "        batch_size=batch_size,\n",
    "        seed=seed\n",
    "    )\n",
    "\n",
    "    while True:\n",
    "        X1i = next(val_image_generator)\n",
    "        X2i = next(val_mask_generator)\n",
    "\n",
    "        mask_encoded = [rgb_to_onehot(X2i[x, :, :, :], id2code).astype(np.float32) for x in range(X2i.shape[0])]\n",
    "\n",
    "        yield X1i, np.asarray(mask_encoded)\n"
   ]
  },
  {
   "cell_type": "code",
   "execution_count": 15,
   "id": "6fed6c56",
   "metadata": {
    "execution": {
     "iopub.execute_input": "2024-07-19T13:07:56.862025Z",
     "iopub.status.busy": "2024-07-19T13:07:56.861718Z",
     "iopub.status.idle": "2024-07-19T13:07:56.873506Z",
     "shell.execute_reply": "2024-07-19T13:07:56.872672Z"
    },
    "papermill": {
     "duration": 0.037819,
     "end_time": "2024-07-19T13:07:56.875446",
     "exception": false,
     "start_time": "2024-07-19T13:07:56.837627",
     "status": "completed"
    },
    "tags": []
   },
   "outputs": [],
   "source": [
    "def conv_block(input, num_filters):\n",
    "    x = Conv2D(num_filters, 3, padding=\"same\")(input)\n",
    "    x = BatchNormalization()(x)\n",
    "    x = Activation(\"relu\")(x)\n",
    "\n",
    "    x = Conv2D(num_filters, 3, padding=\"same\")(x)\n",
    "    x = BatchNormalization()(x)\n",
    "    x = Activation(\"relu\")(x)\n",
    "\n",
    "    return x\n",
    "\n",
    "def decoder_block(input, skip_features, num_filters):\n",
    "    x = Conv2DTranspose(num_filters, (2, 2), strides=2, padding=\"same\")(input)\n",
    "    x = Concatenate()([x, skip_features])\n",
    "    x = conv_block(x, num_filters)\n",
    "    return x\n",
    "\n",
    "def build_inception_resnetv2_unet(input_shape):\n",
    "    \"\"\" Input \"\"\"\n",
    "    inputs = Input(input_shape)\n",
    "\n",
    "    \"\"\" Pre-trained InceptionResNetV2 Model \"\"\"\n",
    "    encoder = InceptionResNetV2(include_top=False, weights=\"imagenet\", input_tensor=inputs)\n",
    "\n",
    "    \"\"\" Encoder \"\"\"\n",
    "    s1 = encoder.get_layer(\"input_layer\").output           ## (512 x 512)\n",
    "\n",
    "    s2 = encoder.get_layer(\"activation\").output        ## (255 x 255)\n",
    "    s2 = ZeroPadding2D(( (1, 0), (1, 0) ))(s2)         ## (256 x 256)\n",
    "\n",
    "    s3 = encoder.get_layer(\"activation_3\").output      ## (126 x 126)\n",
    "    s3 = ZeroPadding2D((1, 1))(s3)                     ## (128 x 128)\n",
    "\n",
    "    s4 = encoder.get_layer(\"activation_74\").output      ## (61 x 61)\n",
    "    s4 = ZeroPadding2D(( (2, 1),(2, 1) ))(s4)           ## (64 x 64)\n",
    "\n",
    "    \"\"\" Bridge \"\"\"\n",
    "    b1 = encoder.get_layer(\"activation_161\").output     ## (30 x 30)\n",
    "    b1 = ZeroPadding2D((1, 1))(b1)                      ## (32 x 32)\n",
    "\n",
    "    \"\"\" Decoder \"\"\"\n",
    "    d1 = decoder_block(b1, s4, 512)                     ## (64 x 64)\n",
    "    d2 = decoder_block(d1, s3, 256)                     ## (128 x 128)\n",
    "    d3 = decoder_block(d2, s2, 128)                     ## (256 x 256)\n",
    "    d4 = decoder_block(d3, s1, 64)                      ## (512 x 512)\n",
    "\n",
    "    \"\"\" Output \"\"\"\n",
    "    dropout = Dropout(0.3)(d4)\n",
    "    outputs = Conv2D(5, 1, padding=\"same\", activation=\"softmax\")(dropout)\n",
    "\n",
    "    model = Model(inputs, outputs, name=\"InceptionResNetV2-UNet\")\n",
    "    return model"
   ]
  },
  {
   "cell_type": "code",
   "execution_count": 16,
   "id": "99c05436",
   "metadata": {
    "execution": {
     "iopub.execute_input": "2024-07-19T13:07:56.922142Z",
     "iopub.status.busy": "2024-07-19T13:07:56.921867Z",
     "iopub.status.idle": "2024-07-19T13:07:56.927447Z",
     "shell.execute_reply": "2024-07-19T13:07:56.926567Z"
    },
    "papermill": {
     "duration": 0.030877,
     "end_time": "2024-07-19T13:07:56.929411",
     "exception": false,
     "start_time": "2024-07-19T13:07:56.898534",
     "status": "completed"
    },
    "tags": []
   },
   "outputs": [
    {
     "name": "stdout",
     "output_type": "stream",
     "text": [
      "steps_per_epoch:  59\n",
      "validation_steps:  59\n"
     ]
    }
   ],
   "source": [
    "batch_size = 16\n",
    "num_train_samples = len(train_images)\n",
    "num_val_samples = len(val_images)\n",
    "\n",
    "steps_per_epoch = int(np.ceil(float(num_train_samples) / float(batch_size)))\n",
    "print('steps_per_epoch: ', steps_per_epoch)\n",
    "validation_steps = int(np.ceil(float(4 * num_val_samples) / float(batch_size)))\n",
    "print('validation_steps: ', validation_steps)"
   ]
  },
  {
   "cell_type": "code",
   "execution_count": 17,
   "id": "069a50a7",
   "metadata": {
    "execution": {
     "iopub.execute_input": "2024-07-19T13:07:56.976353Z",
     "iopub.status.busy": "2024-07-19T13:07:56.976115Z",
     "iopub.status.idle": "2024-07-19T13:07:57.160109Z",
     "shell.execute_reply": "2024-07-19T13:07:57.159192Z"
    },
    "papermill": {
     "duration": 0.209525,
     "end_time": "2024-07-19T13:07:57.162213",
     "exception": false,
     "start_time": "2024-07-19T13:07:56.952688",
     "status": "completed"
    },
    "tags": []
   },
   "outputs": [],
   "source": [
    "K.clear_session()"
   ]
  },
  {
   "cell_type": "code",
   "execution_count": 18,
   "id": "5d005320",
   "metadata": {
    "execution": {
     "iopub.execute_input": "2024-07-19T13:07:57.211141Z",
     "iopub.status.busy": "2024-07-19T13:07:57.210818Z",
     "iopub.status.idle": "2024-07-19T13:07:58.257724Z",
     "shell.execute_reply": "2024-07-19T13:07:58.256793Z"
    },
    "papermill": {
     "duration": 1.073493,
     "end_time": "2024-07-19T13:07:58.259917",
     "exception": false,
     "start_time": "2024-07-19T13:07:57.186424",
     "status": "completed"
    },
    "tags": []
   },
   "outputs": [
    {
     "name": "stdout",
     "output_type": "stream",
     "text": [
      "Number of devices: 2\n"
     ]
    }
   ],
   "source": [
    "strategy = tf.distribute.MirroredStrategy()\n",
    "print(\"Number of devices: {}\".format(strategy.num_replicas_in_sync))\n"
   ]
  },
  {
   "cell_type": "code",
   "execution_count": 19,
   "id": "9dbaf411",
   "metadata": {
    "execution": {
     "iopub.execute_input": "2024-07-19T13:07:58.307305Z",
     "iopub.status.busy": "2024-07-19T13:07:58.307009Z",
     "iopub.status.idle": "2024-07-19T13:08:07.399267Z",
     "shell.execute_reply": "2024-07-19T13:08:07.398009Z"
    },
    "papermill": {
     "duration": 9.119091,
     "end_time": "2024-07-19T13:08:07.402362",
     "exception": false,
     "start_time": "2024-07-19T13:07:58.283271",
     "status": "completed"
    },
    "tags": []
   },
   "outputs": [
    {
     "name": "stdout",
     "output_type": "stream",
     "text": [
      "Downloading data from https://storage.googleapis.com/tensorflow/keras-applications/inception_resnet_v2/inception_resnet_v2_weights_tf_dim_ordering_tf_kernels_notop.h5\n",
      "\u001B[1m219055592/219055592\u001B[0m \u001B[32m━━━━━━━━━━━━━━━━━━━━\u001B[0m\u001B[37m\u001B[0m \u001B[1m1s\u001B[0m 0us/step\n"
     ]
    }
   ],
   "source": [
    "with strategy.scope():\n",
    "    model = build_inception_resnetv2_unet(input_shape=(512, 512, 3))\n",
    "\n",
    "    def dice_coefficient(y_true, y_pred, smooth=1):    \n",
    "        intersection = K.sum(y_true * y_pred)\n",
    "        return (2. * intersection + smooth) / (K.sum(y_true) + K.sum(y_pred) + smooth) \n",
    "\n",
    "    model.compile(\n",
    "        optimizer=Adam(learning_rate=0.0001), \n",
    "        loss='categorical_crossentropy', \n",
    "        metrics=[\"accuracy\", dice_coefficient, Precision(), Recall(), MeanSquaredError(), MeanIoU(num_classes=len(id2code))]\n",
    "    )"
   ]
  },
  {
   "cell_type": "code",
   "execution_count": 20,
   "id": "27b7465e",
   "metadata": {
    "execution": {
     "iopub.execute_input": "2024-07-19T13:08:07.467552Z",
     "iopub.status.busy": "2024-07-19T13:08:07.467212Z",
     "iopub.status.idle": "2024-07-19T13:08:07.474402Z",
     "shell.execute_reply": "2024-07-19T13:08:07.473573Z"
    },
    "papermill": {
     "duration": 0.035944,
     "end_time": "2024-07-19T13:08:07.476345",
     "exception": false,
     "start_time": "2024-07-19T13:08:07.440401",
     "status": "completed"
    },
    "tags": []
   },
   "outputs": [],
   "source": [
    "def exponential_decay(lr0, s):\n",
    "    def exponential_decay_fn(epoch):\n",
    "        return lr0 * 0.1 **(epoch / s)\n",
    "    return exponential_decay_fn\n",
    "\n",
    "exponential_decay_fn = exponential_decay(0.0001, 60)\n",
    "\n",
    "lr_scheduler = LearningRateScheduler(\n",
    "    exponential_decay_fn,\n",
    "    verbose=1\n",
    ")\n",
    "\n",
    "checkpoint = ModelCheckpoint(\n",
    "    filepath = '/kaggle/working/InceptionResNetV2-UNet.keras',\n",
    "    save_best_only = True, \n",
    "#     save_weights_only = False,\n",
    "    monitor = 'val_loss', \n",
    "    mode = 'auto', \n",
    "    verbose = 1\n",
    ")\n",
    "\n",
    "earlystop = EarlyStopping(\n",
    "    monitor = 'val_loss',\n",
    "    min_delta = 0.0005,\n",
    "    patience = 18,\n",
    "    mode = 'auto',\n",
    "    verbose = 1,\n",
    "    restore_best_weights = True\n",
    ")\n",
    "\n",
    "csvlogger = CSVLogger(\n",
    "    filename= \"model_training.csv\",\n",
    "    separator = \",\",\n",
    "    append = False\n",
    ")\n",
    "\n",
    "callbacks = [checkpoint, earlystop, csvlogger, lr_scheduler]"
   ]
  },
  {
   "cell_type": "code",
   "execution_count": 21,
   "id": "16cb25ee",
   "metadata": {
    "execution": {
     "iopub.execute_input": "2024-07-19T13:08:07.527705Z",
     "iopub.status.busy": "2024-07-19T13:08:07.527019Z",
     "iopub.status.idle": "2024-07-19T14:59:20.945575Z",
     "shell.execute_reply": "2024-07-19T14:59:20.944527Z"
    },
    "papermill": {
     "duration": 6673.446316,
     "end_time": "2024-07-19T14:59:20.948082",
     "exception": false,
     "start_time": "2024-07-19T13:08:07.501766",
     "status": "completed"
    },
    "tags": []
   },
   "outputs": [
    {
     "name": "stdout",
     "output_type": "stream",
     "text": [
      "\n",
      "Epoch 1: LearningRateScheduler setting learning rate to 0.0001.\n",
      "Epoch 1/60\n"
     ]
    },
    {
     "name": "stderr",
     "output_type": "stream",
     "text": [
      "2024-07-19 13:11:23.048965: E tensorflow/core/grappler/optimizers/meta_optimizer.cc:961] layout failed: INVALID_ARGUMENT: Size of values 0 does not match size of permutation 4 @ fanin shape inStatefulPartitionedCall/cond/else/_3258/cond/StatefulPartitionedCall/InceptionResNetV2-UNet_1/dropout_1/stateless_dropout/SelectV2-2-TransposeNHWCToNCHW-LayoutOptimizer\n"
     ]
    },
    {
     "name": "stdout",
     "output_type": "stream",
     "text": [
      "\u001B[1m59/59\u001B[0m \u001B[32m━━━━━━━━━━━━━━━━━━━━\u001B[0m\u001B[37m\u001B[0m \u001B[1m0s\u001B[0m 1s/step - accuracy: 0.2965 - dice_coefficient: 0.2274 - loss: 1.5942 - mean_io_u: 0.4015 - mean_squared_error: 0.1559 - precision: 0.3140 - recall: 0.0184\n",
      "Epoch 1: val_loss improved from inf to 1.55317, saving model to /kaggle/working/InceptionResNetV2-UNet.keras\n",
      "\u001B[1m59/59\u001B[0m \u001B[32m━━━━━━━━━━━━━━━━━━━━\u001B[0m\u001B[37m\u001B[0m \u001B[1m463s\u001B[0m 2s/step - accuracy: 0.2974 - dice_coefficient: 0.2277 - loss: 1.5926 - mean_io_u: 0.4015 - mean_squared_error: 0.1558 - precision: 0.3157 - recall: 0.0186 - val_accuracy: 0.3081 - val_dice_coefficient: 0.2073 - val_loss: 1.5532 - val_mean_io_u: 0.4013 - val_mean_squared_error: 0.1555 - val_precision: 0.9957 - val_recall: 2.0779e-04 - learning_rate: 1.0000e-04\n",
      "\n",
      "Epoch 2: LearningRateScheduler setting learning rate to 9.623506263980886e-05.\n",
      "Epoch 2/60\n",
      "\u001B[1m59/59\u001B[0m \u001B[32m━━━━━━━━━━━━━━━━━━━━\u001B[0m\u001B[37m\u001B[0m \u001B[1m0s\u001B[0m 1s/step - accuracy: 0.4864 - dice_coefficient: 0.3290 - loss: 1.2584 - mean_io_u: 0.4014 - mean_squared_error: 0.1295 - precision: 0.5937 - recall: 0.1573\n",
      "Epoch 2: val_loss improved from 1.55317 to 1.38640, saving model to /kaggle/working/InceptionResNetV2-UNet.keras\n",
      "\u001B[1m59/59\u001B[0m \u001B[32m━━━━━━━━━━━━━━━━━━━━\u001B[0m\u001B[37m\u001B[0m \u001B[1m118s\u001B[0m 2s/step - accuracy: 0.4866 - dice_coefficient: 0.3293 - loss: 1.2578 - mean_io_u: 0.4014 - mean_squared_error: 0.1295 - precision: 0.5940 - recall: 0.1580 - val_accuracy: 0.4405 - val_dice_coefficient: 0.3060 - val_loss: 1.3864 - val_mean_io_u: 0.4017 - val_mean_squared_error: 0.1414 - val_precision: 0.5075 - val_recall: 0.1576 - learning_rate: 9.6235e-05\n",
      "\n",
      "Epoch 3: LearningRateScheduler setting learning rate to 9.261187281287936e-05.\n",
      "Epoch 3/60\n",
      "\u001B[1m59/59\u001B[0m \u001B[32m━━━━━━━━━━━━━━━━━━━━\u001B[0m\u001B[37m\u001B[0m \u001B[1m0s\u001B[0m 1s/step - accuracy: 0.5841 - dice_coefficient: 0.4192 - loss: 1.0812 - mean_io_u: 0.4017 - mean_squared_error: 0.1122 - precision: 0.6573 - recall: 0.3746\n",
      "Epoch 3: val_loss improved from 1.38640 to 1.29396, saving model to /kaggle/working/InceptionResNetV2-UNet.keras\n",
      "\u001B[1m59/59\u001B[0m \u001B[32m━━━━━━━━━━━━━━━━━━━━\u001B[0m\u001B[37m\u001B[0m \u001B[1m117s\u001B[0m 2s/step - accuracy: 0.5840 - dice_coefficient: 0.4192 - loss: 1.0813 - mean_io_u: 0.4017 - mean_squared_error: 0.1122 - precision: 0.6573 - recall: 0.3745 - val_accuracy: 0.5438 - val_dice_coefficient: 0.4408 - val_loss: 1.2940 - val_mean_io_u: 0.4039 - val_mean_squared_error: 0.1196 - val_precision: 0.6320 - val_recall: 0.3619 - learning_rate: 9.2612e-05\n",
      "\n",
      "Epoch 4: LearningRateScheduler setting learning rate to 8.912509381337456e-05.\n",
      "Epoch 4/60\n",
      "\u001B[1m59/59\u001B[0m \u001B[32m━━━━━━━━━━━━━━━━━━━━\u001B[0m\u001B[37m\u001B[0m \u001B[1m0s\u001B[0m 1s/step - accuracy: 0.6079 - dice_coefficient: 0.4485 - loss: 1.0168 - mean_io_u: 0.4015 - mean_squared_error: 0.1063 - precision: 0.6745 - recall: 0.4340\n",
      "Epoch 4: val_loss did not improve from 1.29396\n",
      "\u001B[1m59/59\u001B[0m \u001B[32m━━━━━━━━━━━━━━━━━━━━\u001B[0m\u001B[37m\u001B[0m \u001B[1m110s\u001B[0m 2s/step - accuracy: 0.6079 - dice_coefficient: 0.4485 - loss: 1.0166 - mean_io_u: 0.4015 - mean_squared_error: 0.1062 - precision: 0.6745 - recall: 0.4341 - val_accuracy: 0.6094 - val_dice_coefficient: 0.4042 - val_loss: 1.7254 - val_mean_io_u: 0.4011 - val_mean_squared_error: 0.1086 - val_precision: 0.7158 - val_recall: 0.3284 - learning_rate: 8.9125e-05\n",
      "\n",
      "Epoch 5: LearningRateScheduler setting learning rate to 8.576958985908941e-05.\n",
      "Epoch 5/60\n",
      "\u001B[1m59/59\u001B[0m \u001B[32m━━━━━━━━━━━━━━━━━━━━\u001B[0m\u001B[37m\u001B[0m \u001B[1m0s\u001B[0m 1s/step - accuracy: 0.6174 - dice_coefficient: 0.4667 - loss: 0.9816 - mean_io_u: 0.4018 - mean_squared_error: 0.1031 - precision: 0.6754 - recall: 0.4668\n",
      "Epoch 5: val_loss improved from 1.29396 to 1.02613, saving model to /kaggle/working/InceptionResNetV2-UNet.keras\n",
      "\u001B[1m59/59\u001B[0m \u001B[32m━━━━━━━━━━━━━━━━━━━━\u001B[0m\u001B[37m\u001B[0m \u001B[1m116s\u001B[0m 2s/step - accuracy: 0.6176 - dice_coefficient: 0.4668 - loss: 0.9815 - mean_io_u: 0.4018 - mean_squared_error: 0.1031 - precision: 0.6755 - recall: 0.4671 - val_accuracy: 0.6418 - val_dice_coefficient: 0.4825 - val_loss: 1.0261 - val_mean_io_u: 0.4015 - val_mean_squared_error: 0.0952 - val_precision: 0.7266 - val_recall: 0.4813 - learning_rate: 8.5770e-05\n",
      "\n",
      "Epoch 6: LearningRateScheduler setting learning rate to 8.254041852680184e-05.\n",
      "Epoch 6/60\n",
      "\u001B[1m59/59\u001B[0m \u001B[32m━━━━━━━━━━━━━━━━━━━━\u001B[0m\u001B[37m\u001B[0m \u001B[1m0s\u001B[0m 1s/step - accuracy: 0.6536 - dice_coefficient: 0.5115 - loss: 0.8846 - mean_io_u: 0.4012 - mean_squared_error: 0.0941 - precision: 0.7050 - recall: 0.5372\n",
      "Epoch 6: val_loss improved from 1.02613 to 1.01630, saving model to /kaggle/working/InceptionResNetV2-UNet.keras\n",
      "\u001B[1m59/59\u001B[0m \u001B[32m━━━━━━━━━━━━━━━━━━━━\u001B[0m\u001B[37m\u001B[0m \u001B[1m114s\u001B[0m 2s/step - accuracy: 0.6535 - dice_coefficient: 0.5114 - loss: 0.8846 - mean_io_u: 0.4012 - mean_squared_error: 0.0941 - precision: 0.7049 - recall: 0.5370 - val_accuracy: 0.6662 - val_dice_coefficient: 0.5340 - val_loss: 1.0163 - val_mean_io_u: 0.4012 - val_mean_squared_error: 0.0908 - val_precision: 0.7051 - val_recall: 0.5833 - learning_rate: 8.2540e-05\n",
      "\n",
      "Epoch 7: LearningRateScheduler setting learning rate to 7.943282347242815e-05.\n",
      "Epoch 7/60\n",
      "\u001B[1m59/59\u001B[0m \u001B[32m━━━━━━━━━━━━━━━━━━━━\u001B[0m\u001B[37m\u001B[0m \u001B[1m0s\u001B[0m 1s/step - accuracy: 0.6712 - dice_coefficient: 0.5226 - loss: 0.8424 - mean_io_u: 0.4015 - mean_squared_error: 0.0902 - precision: 0.7186 - recall: 0.5579\n",
      "Epoch 7: val_loss improved from 1.01630 to 0.90443, saving model to /kaggle/working/InceptionResNetV2-UNet.keras\n",
      "\u001B[1m59/59\u001B[0m \u001B[32m━━━━━━━━━━━━━━━━━━━━\u001B[0m\u001B[37m\u001B[0m \u001B[1m115s\u001B[0m 2s/step - accuracy: 0.6709 - dice_coefficient: 0.5226 - loss: 0.8429 - mean_io_u: 0.4015 - mean_squared_error: 0.0903 - precision: 0.7184 - recall: 0.5577 - val_accuracy: 0.6524 - val_dice_coefficient: 0.5662 - val_loss: 0.9044 - val_mean_io_u: 0.4015 - val_mean_squared_error: 0.0931 - val_precision: 0.6719 - val_recall: 0.6231 - learning_rate: 7.9433e-05\n",
      "\n",
      "Epoch 8: LearningRateScheduler setting learning rate to 7.644222742526003e-05.\n",
      "Epoch 8/60\n",
      "\u001B[1m59/59\u001B[0m \u001B[32m━━━━━━━━━━━━━━━━━━━━\u001B[0m\u001B[37m\u001B[0m \u001B[1m0s\u001B[0m 1s/step - accuracy: 0.6732 - dice_coefficient: 0.5354 - loss: 0.8323 - mean_io_u: 0.4012 - mean_squared_error: 0.0891 - precision: 0.7218 - recall: 0.5704\n",
      "Epoch 8: val_loss did not improve from 0.90443\n",
      "\u001B[1m59/59\u001B[0m \u001B[32m━━━━━━━━━━━━━━━━━━━━\u001B[0m\u001B[37m\u001B[0m \u001B[1m110s\u001B[0m 2s/step - accuracy: 0.6732 - dice_coefficient: 0.5354 - loss: 0.8322 - mean_io_u: 0.4012 - mean_squared_error: 0.0891 - precision: 0.7217 - recall: 0.5706 - val_accuracy: 0.6585 - val_dice_coefficient: 0.5390 - val_loss: 1.3117 - val_mean_io_u: 0.4013 - val_mean_squared_error: 0.0905 - val_precision: 0.7025 - val_recall: 0.5984 - learning_rate: 7.6442e-05\n",
      "\n",
      "Epoch 9: LearningRateScheduler setting learning rate to 7.356422544596415e-05.\n",
      "Epoch 9/60\n",
      "\u001B[1m59/59\u001B[0m \u001B[32m━━━━━━━━━━━━━━━━━━━━\u001B[0m\u001B[37m\u001B[0m \u001B[1m0s\u001B[0m 1s/step - accuracy: 0.6818 - dice_coefficient: 0.5467 - loss: 0.8127 - mean_io_u: 0.4014 - mean_squared_error: 0.0873 - precision: 0.7272 - recall: 0.5891\n",
      "Epoch 9: val_loss did not improve from 0.90443\n",
      "\u001B[1m59/59\u001B[0m \u001B[32m━━━━━━━━━━━━━━━━━━━━\u001B[0m\u001B[37m\u001B[0m \u001B[1m109s\u001B[0m 2s/step - accuracy: 0.6820 - dice_coefficient: 0.5469 - loss: 0.8123 - mean_io_u: 0.4014 - mean_squared_error: 0.0873 - precision: 0.7274 - recall: 0.5894 - val_accuracy: 0.6093 - val_dice_coefficient: 0.5350 - val_loss: 3.0703 - val_mean_io_u: 0.4012 - val_mean_squared_error: 0.1079 - val_precision: 0.6382 - val_recall: 0.5647 - learning_rate: 7.3564e-05\n",
      "\n",
      "Epoch 10: LearningRateScheduler setting learning rate to 7.07945784384138e-05.\n",
      "Epoch 10/60\n",
      "\u001B[1m59/59\u001B[0m \u001B[32m━━━━━━━━━━━━━━━━━━━━\u001B[0m\u001B[37m\u001B[0m \u001B[1m0s\u001B[0m 1s/step - accuracy: 0.7024 - dice_coefficient: 0.5710 - loss: 0.7607 - mean_io_u: 0.4013 - mean_squared_error: 0.0819 - precision: 0.7456 - recall: 0.6205\n",
      "Epoch 10: val_loss did not improve from 0.90443\n",
      "\u001B[1m59/59\u001B[0m \u001B[32m━━━━━━━━━━━━━━━━━━━━\u001B[0m\u001B[37m\u001B[0m \u001B[1m109s\u001B[0m 2s/step - accuracy: 0.7023 - dice_coefficient: 0.5709 - loss: 0.7608 - mean_io_u: 0.4013 - mean_squared_error: 0.0819 - precision: 0.7455 - recall: 0.6205 - val_accuracy: 0.6871 - val_dice_coefficient: 0.5806 - val_loss: 3.0435 - val_mean_io_u: 0.4004 - val_mean_squared_error: 0.0876 - val_precision: 0.7164 - val_recall: 0.6330 - learning_rate: 7.0795e-05\n",
      "\n",
      "Epoch 11: LearningRateScheduler setting learning rate to 6.812920690579614e-05.\n",
      "Epoch 11/60\n",
      "\u001B[1m59/59\u001B[0m \u001B[32m━━━━━━━━━━━━━━━━━━━━\u001B[0m\u001B[37m\u001B[0m \u001B[1m0s\u001B[0m 1s/step - accuracy: 0.7278 - dice_coefficient: 0.5984 - loss: 0.7017 - mean_io_u: 0.4016 - mean_squared_error: 0.0756 - precision: 0.7657 - recall: 0.6619\n",
      "Epoch 11: val_loss did not improve from 0.90443\n",
      "\u001B[1m59/59\u001B[0m \u001B[32m━━━━━━━━━━━━━━━━━━━━\u001B[0m\u001B[37m\u001B[0m \u001B[1m111s\u001B[0m 2s/step - accuracy: 0.7277 - dice_coefficient: 0.5983 - loss: 0.7018 - mean_io_u: 0.4016 - mean_squared_error: 0.0757 - precision: 0.7656 - recall: 0.6618 - val_accuracy: 0.6304 - val_dice_coefficient: 0.5563 - val_loss: 5.7898 - val_mean_io_u: 0.4043 - val_mean_squared_error: 0.1044 - val_precision: 0.6645 - val_recall: 0.5556 - learning_rate: 6.8129e-05\n",
      "\n",
      "Epoch 12: LearningRateScheduler setting learning rate to 6.556418494179789e-05.\n",
      "Epoch 12/60\n",
      "\u001B[1m59/59\u001B[0m \u001B[32m━━━━━━━━━━━━━━━━━━━━\u001B[0m\u001B[37m\u001B[0m \u001B[1m0s\u001B[0m 1s/step - accuracy: 0.7291 - dice_coefficient: 0.6033 - loss: 0.6897 - mean_io_u: 0.4014 - mean_squared_error: 0.0747 - precision: 0.7689 - recall: 0.6627\n",
      "Epoch 12: val_loss did not improve from 0.90443\n",
      "\u001B[1m59/59\u001B[0m \u001B[32m━━━━━━━━━━━━━━━━━━━━\u001B[0m\u001B[37m\u001B[0m \u001B[1m109s\u001B[0m 2s/step - accuracy: 0.7288 - dice_coefficient: 0.6030 - loss: 0.6904 - mean_io_u: 0.4014 - mean_squared_error: 0.0748 - precision: 0.7686 - recall: 0.6623 - val_accuracy: 0.6529 - val_dice_coefficient: 0.5664 - val_loss: 3.9604 - val_mean_io_u: 0.4001 - val_mean_squared_error: 0.0967 - val_precision: 0.6787 - val_recall: 0.6046 - learning_rate: 6.5564e-05\n",
      "\n",
      "Epoch 13: LearningRateScheduler setting learning rate to 6.309573444801933e-05.\n",
      "Epoch 13/60\n",
      "\u001B[1m59/59\u001B[0m \u001B[32m━━━━━━━━━━━━━━━━━━━━\u001B[0m\u001B[37m\u001B[0m \u001B[1m0s\u001B[0m 1s/step - accuracy: 0.7404 - dice_coefficient: 0.6118 - loss: 0.6782 - mean_io_u: 0.4014 - mean_squared_error: 0.0728 - precision: 0.7773 - recall: 0.6779\n",
      "Epoch 13: val_loss did not improve from 0.90443\n",
      "\u001B[1m59/59\u001B[0m \u001B[32m━━━━━━━━━━━━━━━━━━━━\u001B[0m\u001B[37m\u001B[0m \u001B[1m108s\u001B[0m 2s/step - accuracy: 0.7403 - dice_coefficient: 0.6117 - loss: 0.6784 - mean_io_u: 0.4014 - mean_squared_error: 0.0728 - precision: 0.7772 - recall: 0.6779 - val_accuracy: 0.6871 - val_dice_coefficient: 0.5841 - val_loss: 1.5186 - val_mean_io_u: 0.4006 - val_mean_squared_error: 0.0869 - val_precision: 0.7216 - val_recall: 0.6228 - learning_rate: 6.3096e-05\n",
      "\n",
      "Epoch 14: LearningRateScheduler setting learning rate to 6.072021956909886e-05.\n",
      "Epoch 14/60\n",
      "\u001B[1m59/59\u001B[0m \u001B[32m━━━━━━━━━━━━━━━━━━━━\u001B[0m\u001B[37m\u001B[0m \u001B[1m0s\u001B[0m 1s/step - accuracy: 0.7451 - dice_coefficient: 0.6237 - loss: 0.6620 - mean_io_u: 0.4014 - mean_squared_error: 0.0714 - precision: 0.7791 - recall: 0.6897\n",
      "Epoch 14: val_loss did not improve from 0.90443\n",
      "\u001B[1m59/59\u001B[0m \u001B[32m━━━━━━━━━━━━━━━━━━━━\u001B[0m\u001B[37m\u001B[0m \u001B[1m111s\u001B[0m 2s/step - accuracy: 0.7450 - dice_coefficient: 0.6236 - loss: 0.6621 - mean_io_u: 0.4014 - mean_squared_error: 0.0714 - precision: 0.7791 - recall: 0.6896 - val_accuracy: 0.6956 - val_dice_coefficient: 0.6085 - val_loss: 1.2681 - val_mean_io_u: 0.4008 - val_mean_squared_error: 0.0845 - val_precision: 0.7213 - val_recall: 0.6544 - learning_rate: 6.0720e-05\n",
      "\n",
      "Epoch 15: LearningRateScheduler setting learning rate to 5.8434141337351765e-05.\n",
      "Epoch 15/60\n",
      "\u001B[1m59/59\u001B[0m \u001B[32m━━━━━━━━━━━━━━━━━━━━\u001B[0m\u001B[37m\u001B[0m \u001B[1m0s\u001B[0m 1s/step - accuracy: 0.7655 - dice_coefficient: 0.6455 - loss: 0.6115 - mean_io_u: 0.4016 - mean_squared_error: 0.0658 - precision: 0.7980 - recall: 0.7185\n",
      "Epoch 15: val_loss did not improve from 0.90443\n",
      "\u001B[1m59/59\u001B[0m \u001B[32m━━━━━━━━━━━━━━━━━━━━\u001B[0m\u001B[37m\u001B[0m \u001B[1m110s\u001B[0m 2s/step - accuracy: 0.7654 - dice_coefficient: 0.6455 - loss: 0.6116 - mean_io_u: 0.4016 - mean_squared_error: 0.0658 - precision: 0.7980 - recall: 0.7184 - val_accuracy: 0.7151 - val_dice_coefficient: 0.6121 - val_loss: 1.1804 - val_mean_io_u: 0.4012 - val_mean_squared_error: 0.0791 - val_precision: 0.7425 - val_recall: 0.6763 - learning_rate: 5.8434e-05\n",
      "\n",
      "Epoch 16: LearningRateScheduler setting learning rate to 5.623413251903491e-05.\n",
      "Epoch 16/60\n",
      "\u001B[1m59/59\u001B[0m \u001B[32m━━━━━━━━━━━━━━━━━━━━\u001B[0m\u001B[37m\u001B[0m \u001B[1m0s\u001B[0m 1s/step - accuracy: 0.7636 - dice_coefficient: 0.6485 - loss: 0.6048 - mean_io_u: 0.4017 - mean_squared_error: 0.0662 - precision: 0.7934 - recall: 0.7184\n",
      "Epoch 16: val_loss did not improve from 0.90443\n",
      "\u001B[1m59/59\u001B[0m \u001B[32m━━━━━━━━━━━━━━━━━━━━\u001B[0m\u001B[37m\u001B[0m \u001B[1m110s\u001B[0m 2s/step - accuracy: 0.7636 - dice_coefficient: 0.6485 - loss: 0.6049 - mean_io_u: 0.4017 - mean_squared_error: 0.0662 - precision: 0.7934 - recall: 0.7183 - val_accuracy: 0.7051 - val_dice_coefficient: 0.6088 - val_loss: 1.0331 - val_mean_io_u: 0.4010 - val_mean_squared_error: 0.0799 - val_precision: 0.7385 - val_recall: 0.6554 - learning_rate: 5.6234e-05\n",
      "\n",
      "Epoch 17: LearningRateScheduler setting learning rate to 5.4116952654646367e-05.\n",
      "Epoch 17/60\n",
      "\u001B[1m59/59\u001B[0m \u001B[32m━━━━━━━━━━━━━━━━━━━━\u001B[0m\u001B[37m\u001B[0m \u001B[1m0s\u001B[0m 1s/step - accuracy: 0.7701 - dice_coefficient: 0.6529 - loss: 0.5965 - mean_io_u: 0.4016 - mean_squared_error: 0.0647 - precision: 0.7994 - recall: 0.7259\n",
      "Epoch 17: val_loss did not improve from 0.90443\n",
      "\u001B[1m59/59\u001B[0m \u001B[32m━━━━━━━━━━━━━━━━━━━━\u001B[0m\u001B[37m\u001B[0m \u001B[1m109s\u001B[0m 2s/step - accuracy: 0.7700 - dice_coefficient: 0.6528 - loss: 0.5968 - mean_io_u: 0.4016 - mean_squared_error: 0.0647 - precision: 0.7993 - recall: 0.7259 - val_accuracy: 0.7187 - val_dice_coefficient: 0.6218 - val_loss: 0.9914 - val_mean_io_u: 0.4010 - val_mean_squared_error: 0.0773 - val_precision: 0.7419 - val_recall: 0.6862 - learning_rate: 5.4117e-05\n",
      "\n",
      "Epoch 18: LearningRateScheduler setting learning rate to 5.2079483285954645e-05.\n",
      "Epoch 18/60\n",
      "\u001B[1m59/59\u001B[0m \u001B[32m━━━━━━━━━━━━━━━━━━━━\u001B[0m\u001B[37m\u001B[0m \u001B[1m0s\u001B[0m 1s/step - accuracy: 0.7752 - dice_coefficient: 0.6646 - loss: 0.5814 - mean_io_u: 0.4014 - mean_squared_error: 0.0632 - precision: 0.8036 - recall: 0.7347\n",
      "Epoch 18: val_loss did not improve from 0.90443\n",
      "\u001B[1m59/59\u001B[0m \u001B[32m━━━━━━━━━━━━━━━━━━━━\u001B[0m\u001B[37m\u001B[0m \u001B[1m110s\u001B[0m 2s/step - accuracy: 0.7751 - dice_coefficient: 0.6645 - loss: 0.5816 - mean_io_u: 0.4014 - mean_squared_error: 0.0632 - precision: 0.8036 - recall: 0.7346 - val_accuracy: 0.6969 - val_dice_coefficient: 0.6279 - val_loss: 1.1279 - val_mean_io_u: 0.4012 - val_mean_squared_error: 0.0853 - val_precision: 0.7131 - val_recall: 0.6786 - learning_rate: 5.2079e-05\n",
      "\n",
      "Epoch 19: LearningRateScheduler setting learning rate to 5.011872336272724e-05.\n",
      "Epoch 19/60\n",
      "\u001B[1m59/59\u001B[0m \u001B[32m━━━━━━━━━━━━━━━━━━━━\u001B[0m\u001B[37m\u001B[0m \u001B[1m0s\u001B[0m 1s/step - accuracy: 0.7846 - dice_coefficient: 0.6696 - loss: 0.5610 - mean_io_u: 0.4016 - mean_squared_error: 0.0609 - precision: 0.8125 - recall: 0.7459\n",
      "Epoch 19: val_loss did not improve from 0.90443\n",
      "\u001B[1m59/59\u001B[0m \u001B[32m━━━━━━━━━━━━━━━━━━━━\u001B[0m\u001B[37m\u001B[0m \u001B[1m109s\u001B[0m 2s/step - accuracy: 0.7846 - dice_coefficient: 0.6697 - loss: 0.5609 - mean_io_u: 0.4016 - mean_squared_error: 0.0609 - precision: 0.8124 - recall: 0.7460 - val_accuracy: 0.6969 - val_dice_coefficient: 0.5969 - val_loss: 0.9671 - val_mean_io_u: 0.4015 - val_mean_squared_error: 0.0823 - val_precision: 0.7269 - val_recall: 0.6545 - learning_rate: 5.0119e-05\n",
      "\n",
      "Epoch 20: LearningRateScheduler setting learning rate to 4.8231784822393075e-05.\n",
      "Epoch 20/60\n",
      "\u001B[1m59/59\u001B[0m \u001B[32m━━━━━━━━━━━━━━━━━━━━\u001B[0m\u001B[37m\u001B[0m \u001B[1m0s\u001B[0m 1s/step - accuracy: 0.7809 - dice_coefficient: 0.6739 - loss: 0.5709 - mean_io_u: 0.4015 - mean_squared_error: 0.0618 - precision: 0.8075 - recall: 0.7446\n",
      "Epoch 20: val_loss did not improve from 0.90443\n",
      "\u001B[1m59/59\u001B[0m \u001B[32m━━━━━━━━━━━━━━━━━━━━\u001B[0m\u001B[37m\u001B[0m \u001B[1m109s\u001B[0m 2s/step - accuracy: 0.7809 - dice_coefficient: 0.6740 - loss: 0.5708 - mean_io_u: 0.4015 - mean_squared_error: 0.0618 - precision: 0.8076 - recall: 0.7447 - val_accuracy: 0.7224 - val_dice_coefficient: 0.6276 - val_loss: 1.0554 - val_mean_io_u: 0.4011 - val_mean_squared_error: 0.0766 - val_precision: 0.7473 - val_recall: 0.6901 - learning_rate: 4.8232e-05\n",
      "\n",
      "Epoch 21: LearningRateScheduler setting learning rate to 4.641588833612779e-05.\n",
      "Epoch 21/60\n",
      "\u001B[1m59/59\u001B[0m \u001B[32m━━━━━━━━━━━━━━━━━━━━\u001B[0m\u001B[37m\u001B[0m \u001B[1m0s\u001B[0m 1s/step - accuracy: 0.8061 - dice_coefficient: 0.7019 - loss: 0.5098 - mean_io_u: 0.4013 - mean_squared_error: 0.0551 - precision: 0.8306 - recall: 0.7751\n",
      "Epoch 21: val_loss did not improve from 0.90443\n",
      "\u001B[1m59/59\u001B[0m \u001B[32m━━━━━━━━━━━━━━━━━━━━\u001B[0m\u001B[37m\u001B[0m \u001B[1m109s\u001B[0m 2s/step - accuracy: 0.8059 - dice_coefficient: 0.7018 - loss: 0.5101 - mean_io_u: 0.4013 - mean_squared_error: 0.0551 - precision: 0.8305 - recall: 0.7750 - val_accuracy: 0.6981 - val_dice_coefficient: 0.6094 - val_loss: 2.0443 - val_mean_io_u: 0.4005 - val_mean_squared_error: 0.0842 - val_precision: 0.7230 - val_recall: 0.6626 - learning_rate: 4.6416e-05\n",
      "\n",
      "Epoch 22: LearningRateScheduler setting learning rate to 4.4668359215096314e-05.\n",
      "Epoch 22/60\n",
      "\u001B[1m59/59\u001B[0m \u001B[32m━━━━━━━━━━━━━━━━━━━━\u001B[0m\u001B[37m\u001B[0m \u001B[1m0s\u001B[0m 1s/step - accuracy: 0.7975 - dice_coefficient: 0.6917 - loss: 0.5247 - mean_io_u: 0.4017 - mean_squared_error: 0.0572 - precision: 0.8211 - recall: 0.7676\n",
      "Epoch 22: val_loss did not improve from 0.90443\n",
      "\u001B[1m59/59\u001B[0m \u001B[32m━━━━━━━━━━━━━━━━━━━━\u001B[0m\u001B[37m\u001B[0m \u001B[1m110s\u001B[0m 2s/step - accuracy: 0.7977 - dice_coefficient: 0.6919 - loss: 0.5244 - mean_io_u: 0.4017 - mean_squared_error: 0.0571 - precision: 0.8213 - recall: 0.7677 - val_accuracy: 0.7081 - val_dice_coefficient: 0.6290 - val_loss: 1.2598 - val_mean_io_u: 0.4020 - val_mean_squared_error: 0.0820 - val_precision: 0.7336 - val_recall: 0.6730 - learning_rate: 4.4668e-05\n",
      "\n",
      "Epoch 23: LearningRateScheduler setting learning rate to 4.298662347082277e-05.\n",
      "Epoch 23/60\n",
      "\u001B[1m59/59\u001B[0m \u001B[32m━━━━━━━━━━━━━━━━━━━━\u001B[0m\u001B[37m\u001B[0m \u001B[1m0s\u001B[0m 1s/step - accuracy: 0.8194 - dice_coefficient: 0.7230 - loss: 0.4747 - mean_io_u: 0.4014 - mean_squared_error: 0.0513 - precision: 0.8408 - recall: 0.7954\n",
      "Epoch 23: val_loss did not improve from 0.90443\n",
      "\u001B[1m59/59\u001B[0m \u001B[32m━━━━━━━━━━━━━━━━━━━━\u001B[0m\u001B[37m\u001B[0m \u001B[1m109s\u001B[0m 2s/step - accuracy: 0.8194 - dice_coefficient: 0.7230 - loss: 0.4748 - mean_io_u: 0.4014 - mean_squared_error: 0.0513 - precision: 0.8407 - recall: 0.7954 - val_accuracy: 0.7128 - val_dice_coefficient: 0.6346 - val_loss: 1.0930 - val_mean_io_u: 0.4021 - val_mean_squared_error: 0.0806 - val_precision: 0.7323 - val_recall: 0.6891 - learning_rate: 4.2987e-05\n",
      "\n",
      "Epoch 24: LearningRateScheduler setting learning rate to 4.136820402388507e-05.\n",
      "Epoch 24/60\n",
      "\u001B[1m59/59\u001B[0m \u001B[32m━━━━━━━━━━━━━━━━━━━━\u001B[0m\u001B[37m\u001B[0m \u001B[1m0s\u001B[0m 1s/step - accuracy: 0.7991 - dice_coefficient: 0.6972 - loss: 0.5252 - mean_io_u: 0.4016 - mean_squared_error: 0.0571 - precision: 0.8229 - recall: 0.7681\n",
      "Epoch 24: val_loss did not improve from 0.90443\n",
      "\u001B[1m59/59\u001B[0m \u001B[32m━━━━━━━━━━━━━━━━━━━━\u001B[0m\u001B[37m\u001B[0m \u001B[1m111s\u001B[0m 2s/step - accuracy: 0.7992 - dice_coefficient: 0.6972 - loss: 0.5250 - mean_io_u: 0.4016 - mean_squared_error: 0.0570 - precision: 0.8229 - recall: 0.7682 - val_accuracy: 0.7248 - val_dice_coefficient: 0.6469 - val_loss: 1.0614 - val_mean_io_u: 0.4011 - val_mean_squared_error: 0.0764 - val_precision: 0.7433 - val_recall: 0.7025 - learning_rate: 4.1368e-05\n",
      "\n",
      "Epoch 25: LearningRateScheduler setting learning rate to 3.981071705534973e-05.\n",
      "Epoch 25/60\n",
      "\u001B[1m59/59\u001B[0m \u001B[32m━━━━━━━━━━━━━━━━━━━━\u001B[0m\u001B[37m\u001B[0m \u001B[1m0s\u001B[0m 1s/step - accuracy: 0.8190 - dice_coefficient: 0.7206 - loss: 0.4708 - mean_io_u: 0.4017 - mean_squared_error: 0.0513 - precision: 0.8403 - recall: 0.7953\n",
      "Epoch 25: val_loss improved from 0.90443 to 0.80412, saving model to /kaggle/working/InceptionResNetV2-UNet.keras\n",
      "\u001B[1m59/59\u001B[0m \u001B[32m━━━━━━━━━━━━━━━━━━━━\u001B[0m\u001B[37m\u001B[0m \u001B[1m114s\u001B[0m 2s/step - accuracy: 0.8189 - dice_coefficient: 0.7206 - loss: 0.4708 - mean_io_u: 0.4017 - mean_squared_error: 0.0513 - precision: 0.8402 - recall: 0.7952 - val_accuracy: 0.7163 - val_dice_coefficient: 0.6460 - val_loss: 0.8041 - val_mean_io_u: 0.4024 - val_mean_squared_error: 0.0781 - val_precision: 0.7393 - val_recall: 0.6857 - learning_rate: 3.9811e-05\n",
      "\n",
      "Epoch 26: LearningRateScheduler setting learning rate to 3.8311868495572876e-05.\n",
      "Epoch 26/60\n",
      "\u001B[1m59/59\u001B[0m \u001B[32m━━━━━━━━━━━━━━━━━━━━\u001B[0m\u001B[37m\u001B[0m \u001B[1m0s\u001B[0m 1s/step - accuracy: 0.8138 - dice_coefficient: 0.7151 - loss: 0.4850 - mean_io_u: 0.4017 - mean_squared_error: 0.0527 - precision: 0.8356 - recall: 0.7902\n",
      "Epoch 26: val_loss did not improve from 0.80412\n",
      "\u001B[1m59/59\u001B[0m \u001B[32m━━━━━━━━━━━━━━━━━━━━\u001B[0m\u001B[37m\u001B[0m \u001B[1m108s\u001B[0m 2s/step - accuracy: 0.8140 - dice_coefficient: 0.7152 - loss: 0.4847 - mean_io_u: 0.4017 - mean_squared_error: 0.0526 - precision: 0.8357 - recall: 0.7904 - val_accuracy: 0.7199 - val_dice_coefficient: 0.6520 - val_loss: 0.8510 - val_mean_io_u: 0.4031 - val_mean_squared_error: 0.0786 - val_precision: 0.7416 - val_recall: 0.6929 - learning_rate: 3.8312e-05\n",
      "\n",
      "Epoch 27: LearningRateScheduler setting learning rate to 3.6869450645195756e-05.\n",
      "Epoch 27/60\n",
      "\u001B[1m59/59\u001B[0m \u001B[32m━━━━━━━━━━━━━━━━━━━━\u001B[0m\u001B[37m\u001B[0m \u001B[1m0s\u001B[0m 1s/step - accuracy: 0.8106 - dice_coefficient: 0.7149 - loss: 0.4938 - mean_io_u: 0.4017 - mean_squared_error: 0.0536 - precision: 0.8324 - recall: 0.7857\n",
      "Epoch 27: val_loss did not improve from 0.80412\n",
      "\u001B[1m59/59\u001B[0m \u001B[32m━━━━━━━━━━━━━━━━━━━━\u001B[0m\u001B[37m\u001B[0m \u001B[1m109s\u001B[0m 2s/step - accuracy: 0.8108 - dice_coefficient: 0.7152 - loss: 0.4932 - mean_io_u: 0.4016 - mean_squared_error: 0.0535 - precision: 0.8327 - recall: 0.7860 - val_accuracy: 0.7285 - val_dice_coefficient: 0.6540 - val_loss: 0.9024 - val_mean_io_u: 0.4015 - val_mean_squared_error: 0.0757 - val_precision: 0.7485 - val_recall: 0.7059 - learning_rate: 3.6869e-05\n",
      "\n",
      "Epoch 28: LearningRateScheduler setting learning rate to 3.548133892335755e-05.\n",
      "Epoch 28/60\n",
      "\u001B[1m59/59\u001B[0m \u001B[32m━━━━━━━━━━━━━━━━━━━━\u001B[0m\u001B[37m\u001B[0m \u001B[1m0s\u001B[0m 1s/step - accuracy: 0.8253 - dice_coefficient: 0.7341 - loss: 0.4508 - mean_io_u: 0.4017 - mean_squared_error: 0.0492 - precision: 0.8454 - recall: 0.8061\n",
      "Epoch 28: val_loss improved from 0.80412 to 0.78650, saving model to /kaggle/working/InceptionResNetV2-UNet.keras\n",
      "\u001B[1m59/59\u001B[0m \u001B[32m━━━━━━━━━━━━━━━━━━━━\u001B[0m\u001B[37m\u001B[0m \u001B[1m114s\u001B[0m 2s/step - accuracy: 0.8254 - dice_coefficient: 0.7342 - loss: 0.4506 - mean_io_u: 0.4017 - mean_squared_error: 0.0492 - precision: 0.8454 - recall: 0.8062 - val_accuracy: 0.7226 - val_dice_coefficient: 0.6534 - val_loss: 0.7865 - val_mean_io_u: 0.4016 - val_mean_squared_error: 0.0771 - val_precision: 0.7403 - val_recall: 0.7052 - learning_rate: 3.5481e-05\n",
      "\n",
      "Epoch 29: LearningRateScheduler setting learning rate to 3.4145488738336015e-05.\n",
      "Epoch 29/60\n",
      "\u001B[1m59/59\u001B[0m \u001B[32m━━━━━━━━━━━━━━━━━━━━\u001B[0m\u001B[37m\u001B[0m \u001B[1m0s\u001B[0m 1s/step - accuracy: 0.8283 - dice_coefficient: 0.7353 - loss: 0.4459 - mean_io_u: 0.4018 - mean_squared_error: 0.0486 - precision: 0.8478 - recall: 0.8086\n",
      "Epoch 29: val_loss did not improve from 0.78650\n",
      "\u001B[1m59/59\u001B[0m \u001B[32m━━━━━━━━━━━━━━━━━━━━\u001B[0m\u001B[37m\u001B[0m \u001B[1m108s\u001B[0m 2s/step - accuracy: 0.8284 - dice_coefficient: 0.7355 - loss: 0.4456 - mean_io_u: 0.4018 - mean_squared_error: 0.0486 - precision: 0.8479 - recall: 0.8087 - val_accuracy: 0.7199 - val_dice_coefficient: 0.6530 - val_loss: 0.8609 - val_mean_io_u: 0.4031 - val_mean_squared_error: 0.0790 - val_precision: 0.7407 - val_recall: 0.6973 - learning_rate: 3.4145e-05\n",
      "\n",
      "Epoch 30: LearningRateScheduler setting learning rate to 3.285993247600655e-05.\n",
      "Epoch 30/60\n",
      "\u001B[1m59/59\u001B[0m \u001B[32m━━━━━━━━━━━━━━━━━━━━\u001B[0m\u001B[37m\u001B[0m \u001B[1m0s\u001B[0m 1s/step - accuracy: 0.8379 - dice_coefficient: 0.7461 - loss: 0.4312 - mean_io_u: 0.4013 - mean_squared_error: 0.0464 - precision: 0.8572 - recall: 0.8166\n",
      "Epoch 30: val_loss did not improve from 0.78650\n",
      "\u001B[1m59/59\u001B[0m \u001B[32m━━━━━━━━━━━━━━━━━━━━\u001B[0m\u001B[37m\u001B[0m \u001B[1m110s\u001B[0m 2s/step - accuracy: 0.8379 - dice_coefficient: 0.7461 - loss: 0.4312 - mean_io_u: 0.4013 - mean_squared_error: 0.0464 - precision: 0.8572 - recall: 0.8166 - val_accuracy: 0.7301 - val_dice_coefficient: 0.6599 - val_loss: 0.8361 - val_mean_io_u: 0.4012 - val_mean_squared_error: 0.0755 - val_precision: 0.7477 - val_recall: 0.7121 - learning_rate: 3.2860e-05\n",
      "\n",
      "Epoch 31: LearningRateScheduler setting learning rate to 3.1622776601683795e-05.\n",
      "Epoch 31/60\n",
      "\u001B[1m59/59\u001B[0m \u001B[32m━━━━━━━━━━━━━━━━━━━━\u001B[0m\u001B[37m\u001B[0m \u001B[1m0s\u001B[0m 1s/step - accuracy: 0.8366 - dice_coefficient: 0.7464 - loss: 0.4243 - mean_io_u: 0.4018 - mean_squared_error: 0.0462 - precision: 0.8558 - recall: 0.8194\n",
      "Epoch 31: val_loss did not improve from 0.78650\n",
      "\u001B[1m59/59\u001B[0m \u001B[32m━━━━━━━━━━━━━━━━━━━━\u001B[0m\u001B[37m\u001B[0m \u001B[1m109s\u001B[0m 2s/step - accuracy: 0.8364 - dice_coefficient: 0.7462 - loss: 0.4248 - mean_io_u: 0.4018 - mean_squared_error: 0.0462 - precision: 0.8557 - recall: 0.8191 - val_accuracy: 0.7251 - val_dice_coefficient: 0.6576 - val_loss: 1.0306 - val_mean_io_u: 0.4009 - val_mean_squared_error: 0.0784 - val_precision: 0.7390 - val_recall: 0.7118 - learning_rate: 3.1623e-05\n",
      "\n",
      "Epoch 32: LearningRateScheduler setting learning rate to 3.0432198871077215e-05.\n",
      "Epoch 32/60\n",
      "\u001B[1m59/59\u001B[0m \u001B[32m━━━━━━━━━━━━━━━━━━━━\u001B[0m\u001B[37m\u001B[0m \u001B[1m0s\u001B[0m 1s/step - accuracy: 0.8386 - dice_coefficient: 0.7483 - loss: 0.4236 - mean_io_u: 0.4015 - mean_squared_error: 0.0459 - precision: 0.8576 - recall: 0.8196\n",
      "Epoch 32: val_loss did not improve from 0.78650\n",
      "\u001B[1m59/59\u001B[0m \u001B[32m━━━━━━━━━━━━━━━━━━━━\u001B[0m\u001B[37m\u001B[0m \u001B[1m110s\u001B[0m 2s/step - accuracy: 0.8385 - dice_coefficient: 0.7483 - loss: 0.4238 - mean_io_u: 0.4015 - mean_squared_error: 0.0459 - precision: 0.8576 - recall: 0.8196 - val_accuracy: 0.7150 - val_dice_coefficient: 0.6482 - val_loss: 0.8352 - val_mean_io_u: 0.4014 - val_mean_squared_error: 0.0808 - val_precision: 0.7274 - val_recall: 0.7036 - learning_rate: 3.0432e-05\n",
      "\n",
      "Epoch 33: LearningRateScheduler setting learning rate to 2.928644564625237e-05.\n",
      "Epoch 33/60\n",
      "\u001B[1m59/59\u001B[0m \u001B[32m━━━━━━━━━━━━━━━━━━━━\u001B[0m\u001B[37m\u001B[0m \u001B[1m0s\u001B[0m 1s/step - accuracy: 0.8381 - dice_coefficient: 0.7494 - loss: 0.4235 - mean_io_u: 0.4017 - mean_squared_error: 0.0460 - precision: 0.8568 - recall: 0.8198\n",
      "Epoch 33: val_loss did not improve from 0.78650\n",
      "\u001B[1m59/59\u001B[0m \u001B[32m━━━━━━━━━━━━━━━━━━━━\u001B[0m\u001B[37m\u001B[0m \u001B[1m110s\u001B[0m 2s/step - accuracy: 0.8381 - dice_coefficient: 0.7494 - loss: 0.4235 - mean_io_u: 0.4018 - mean_squared_error: 0.0460 - precision: 0.8567 - recall: 0.8198 - val_accuracy: 0.7349 - val_dice_coefficient: 0.6641 - val_loss: 0.8787 - val_mean_io_u: 0.4012 - val_mean_squared_error: 0.0751 - val_precision: 0.7488 - val_recall: 0.7203 - learning_rate: 2.9286e-05\n",
      "\n",
      "Epoch 34: LearningRateScheduler setting learning rate to 2.818382931264454e-05.\n",
      "Epoch 34/60\n",
      "\u001B[1m59/59\u001B[0m \u001B[32m━━━━━━━━━━━━━━━━━━━━\u001B[0m\u001B[37m\u001B[0m \u001B[1m0s\u001B[0m 1s/step - accuracy: 0.8471 - dice_coefficient: 0.7606 - loss: 0.3930 - mean_io_u: 0.4017 - mean_squared_error: 0.0430 - precision: 0.8652 - recall: 0.8318\n",
      "Epoch 34: val_loss did not improve from 0.78650\n",
      "\u001B[1m59/59\u001B[0m \u001B[32m━━━━━━━━━━━━━━━━━━━━\u001B[0m\u001B[37m\u001B[0m \u001B[1m109s\u001B[0m 2s/step - accuracy: 0.8470 - dice_coefficient: 0.7605 - loss: 0.3932 - mean_io_u: 0.4017 - mean_squared_error: 0.0431 - precision: 0.8651 - recall: 0.8317 - val_accuracy: 0.7173 - val_dice_coefficient: 0.6416 - val_loss: 1.0304 - val_mean_io_u: 0.4017 - val_mean_squared_error: 0.0806 - val_precision: 0.7353 - val_recall: 0.6956 - learning_rate: 2.8184e-05\n",
      "\n",
      "Epoch 35: LearningRateScheduler setting learning rate to 2.7122725793320286e-05.\n",
      "Epoch 35/60\n",
      "\u001B[1m59/59\u001B[0m \u001B[32m━━━━━━━━━━━━━━━━━━━━\u001B[0m\u001B[37m\u001B[0m \u001B[1m0s\u001B[0m 1s/step - accuracy: 0.8441 - dice_coefficient: 0.7612 - loss: 0.4024 - mean_io_u: 0.4018 - mean_squared_error: 0.0441 - precision: 0.8611 - recall: 0.8289\n",
      "Epoch 35: val_loss did not improve from 0.78650\n",
      "\u001B[1m59/59\u001B[0m \u001B[32m━━━━━━━━━━━━━━━━━━━━\u001B[0m\u001B[37m\u001B[0m \u001B[1m109s\u001B[0m 2s/step - accuracy: 0.8441 - dice_coefficient: 0.7612 - loss: 0.4023 - mean_io_u: 0.4018 - mean_squared_error: 0.0441 - precision: 0.8611 - recall: 0.8289 - val_accuracy: 0.7269 - val_dice_coefficient: 0.6506 - val_loss: 0.7957 - val_mean_io_u: 0.4019 - val_mean_squared_error: 0.0766 - val_precision: 0.7476 - val_recall: 0.7014 - learning_rate: 2.7123e-05\n",
      "\n",
      "Epoch 36: LearningRateScheduler setting learning rate to 2.6101572156825366e-05.\n",
      "Epoch 36/60\n",
      "\u001B[1m59/59\u001B[0m \u001B[32m━━━━━━━━━━━━━━━━━━━━\u001B[0m\u001B[37m\u001B[0m \u001B[1m0s\u001B[0m 1s/step - accuracy: 0.8535 - dice_coefficient: 0.7701 - loss: 0.3886 - mean_io_u: 0.4012 - mean_squared_error: 0.0419 - precision: 0.8707 - recall: 0.8370\n",
      "Epoch 36: val_loss did not improve from 0.78650\n",
      "\u001B[1m59/59\u001B[0m \u001B[32m━━━━━━━━━━━━━━━━━━━━\u001B[0m\u001B[37m\u001B[0m \u001B[1m109s\u001B[0m 2s/step - accuracy: 0.8537 - dice_coefficient: 0.7702 - loss: 0.3884 - mean_io_u: 0.4012 - mean_squared_error: 0.0419 - precision: 0.8708 - recall: 0.8371 - val_accuracy: 0.7205 - val_dice_coefficient: 0.6595 - val_loss: 1.0950 - val_mean_io_u: 0.4014 - val_mean_squared_error: 0.0805 - val_precision: 0.7344 - val_recall: 0.7066 - learning_rate: 2.6102e-05\n",
      "\n",
      "Epoch 37: LearningRateScheduler setting learning rate to 2.51188643150958e-05.\n",
      "Epoch 37/60\n",
      "\u001B[1m59/59\u001B[0m \u001B[32m━━━━━━━━━━━━━━━━━━━━\u001B[0m\u001B[37m\u001B[0m \u001B[1m0s\u001B[0m 1s/step - accuracy: 0.8531 - dice_coefficient: 0.7696 - loss: 0.3796 - mean_io_u: 0.4018 - mean_squared_error: 0.0416 - precision: 0.8688 - recall: 0.8404\n",
      "Epoch 37: val_loss did not improve from 0.78650\n",
      "\u001B[1m59/59\u001B[0m \u001B[32m━━━━━━━━━━━━━━━━━━━━\u001B[0m\u001B[37m\u001B[0m \u001B[1m110s\u001B[0m 2s/step - accuracy: 0.8530 - dice_coefficient: 0.7696 - loss: 0.3798 - mean_io_u: 0.4018 - mean_squared_error: 0.0416 - precision: 0.8687 - recall: 0.8403 - val_accuracy: 0.7113 - val_dice_coefficient: 0.6398 - val_loss: 1.2106 - val_mean_io_u: 0.4015 - val_mean_squared_error: 0.0833 - val_precision: 0.7265 - val_recall: 0.6955 - learning_rate: 2.5119e-05\n",
      "\n",
      "Epoch 38: LearningRateScheduler setting learning rate to 2.417315480804104e-05.\n",
      "Epoch 38/60\n",
      "\u001B[1m59/59\u001B[0m \u001B[32m━━━━━━━━━━━━━━━━━━━━\u001B[0m\u001B[37m\u001B[0m \u001B[1m0s\u001B[0m 1s/step - accuracy: 0.8493 - dice_coefficient: 0.7688 - loss: 0.3895 - mean_io_u: 0.4016 - mean_squared_error: 0.0426 - precision: 0.8664 - recall: 0.8346\n",
      "Epoch 38: val_loss improved from 0.78650 to 0.75828, saving model to /kaggle/working/InceptionResNetV2-UNet.keras\n",
      "\u001B[1m59/59\u001B[0m \u001B[32m━━━━━━━━━━━━━━━━━━━━\u001B[0m\u001B[37m\u001B[0m \u001B[1m114s\u001B[0m 2s/step - accuracy: 0.8493 - dice_coefficient: 0.7688 - loss: 0.3895 - mean_io_u: 0.4016 - mean_squared_error: 0.0426 - precision: 0.8664 - recall: 0.8346 - val_accuracy: 0.7399 - val_dice_coefficient: 0.6728 - val_loss: 0.7583 - val_mean_io_u: 0.4017 - val_mean_squared_error: 0.0743 - val_precision: 0.7542 - val_recall: 0.7251 - learning_rate: 2.4173e-05\n",
      "\n",
      "Epoch 39: LearningRateScheduler setting learning rate to 2.3263050671536266e-05.\n",
      "Epoch 39/60\n",
      "\u001B[1m59/59\u001B[0m \u001B[32m━━━━━━━━━━━━━━━━━━━━\u001B[0m\u001B[37m\u001B[0m \u001B[1m0s\u001B[0m 1s/step - accuracy: 0.8509 - dice_coefficient: 0.7700 - loss: 0.3861 - mean_io_u: 0.4017 - mean_squared_error: 0.0421 - precision: 0.8676 - recall: 0.8371\n",
      "Epoch 39: val_loss improved from 0.75828 to 0.72024, saving model to /kaggle/working/InceptionResNetV2-UNet.keras\n",
      "\u001B[1m59/59\u001B[0m \u001B[32m━━━━━━━━━━━━━━━━━━━━\u001B[0m\u001B[37m\u001B[0m \u001B[1m113s\u001B[0m 2s/step - accuracy: 0.8510 - dice_coefficient: 0.7701 - loss: 0.3859 - mean_io_u: 0.4017 - mean_squared_error: 0.0421 - precision: 0.8677 - recall: 0.8372 - val_accuracy: 0.7401 - val_dice_coefficient: 0.6700 - val_loss: 0.7202 - val_mean_io_u: 0.4015 - val_mean_squared_error: 0.0731 - val_precision: 0.7566 - val_recall: 0.7224 - learning_rate: 2.3263e-05\n",
      "\n",
      "Epoch 40: LearningRateScheduler setting learning rate to 2.2387211385683396e-05.\n",
      "Epoch 40/60\n",
      "\u001B[1m59/59\u001B[0m \u001B[32m━━━━━━━━━━━━━━━━━━━━\u001B[0m\u001B[37m\u001B[0m \u001B[1m0s\u001B[0m 1s/step - accuracy: 0.8550 - dice_coefficient: 0.7738 - loss: 0.3771 - mean_io_u: 0.4018 - mean_squared_error: 0.0411 - precision: 0.8705 - recall: 0.8421\n",
      "Epoch 40: val_loss did not improve from 0.72024\n",
      "\u001B[1m59/59\u001B[0m \u001B[32m━━━━━━━━━━━━━━━━━━━━\u001B[0m\u001B[37m\u001B[0m \u001B[1m109s\u001B[0m 2s/step - accuracy: 0.8550 - dice_coefficient: 0.7738 - loss: 0.3770 - mean_io_u: 0.4018 - mean_squared_error: 0.0411 - precision: 0.8705 - recall: 0.8421 - val_accuracy: 0.7324 - val_dice_coefficient: 0.6620 - val_loss: 1.0149 - val_mean_io_u: 0.4013 - val_mean_squared_error: 0.0768 - val_precision: 0.7490 - val_recall: 0.7122 - learning_rate: 2.2387e-05\n",
      "\n",
      "Epoch 41: LearningRateScheduler setting learning rate to 2.154434690031884e-05.\n",
      "Epoch 41/60\n",
      "\u001B[1m59/59\u001B[0m \u001B[32m━━━━━━━━━━━━━━━━━━━━\u001B[0m\u001B[37m\u001B[0m \u001B[1m0s\u001B[0m 1s/step - accuracy: 0.8548 - dice_coefficient: 0.7763 - loss: 0.3698 - mean_io_u: 0.4020 - mean_squared_error: 0.0407 - precision: 0.8705 - recall: 0.8441\n",
      "Epoch 41: val_loss did not improve from 0.72024\n",
      "\u001B[1m59/59\u001B[0m \u001B[32m━━━━━━━━━━━━━━━━━━━━\u001B[0m\u001B[37m\u001B[0m \u001B[1m111s\u001B[0m 2s/step - accuracy: 0.8549 - dice_coefficient: 0.7764 - loss: 0.3697 - mean_io_u: 0.4020 - mean_squared_error: 0.0407 - precision: 0.8705 - recall: 0.8441 - val_accuracy: 0.7346 - val_dice_coefficient: 0.6692 - val_loss: 0.7810 - val_mean_io_u: 0.4015 - val_mean_squared_error: 0.0758 - val_precision: 0.7496 - val_recall: 0.7179 - learning_rate: 2.1544e-05\n",
      "\n",
      "Epoch 42: LearningRateScheduler setting learning rate to 2.0733215734859552e-05.\n",
      "Epoch 42/60\n",
      "\u001B[1m59/59\u001B[0m \u001B[32m━━━━━━━━━━━━━━━━━━━━\u001B[0m\u001B[37m\u001B[0m \u001B[1m0s\u001B[0m 1s/step - accuracy: 0.8607 - dice_coefficient: 0.7819 - loss: 0.3596 - mean_io_u: 0.4018 - mean_squared_error: 0.0394 - precision: 0.8755 - recall: 0.8500\n",
      "Epoch 42: val_loss did not improve from 0.72024\n",
      "\u001B[1m59/59\u001B[0m \u001B[32m━━━━━━━━━━━━━━━━━━━━\u001B[0m\u001B[37m\u001B[0m \u001B[1m110s\u001B[0m 2s/step - accuracy: 0.8608 - dice_coefficient: 0.7820 - loss: 0.3594 - mean_io_u: 0.4018 - mean_squared_error: 0.0393 - precision: 0.8755 - recall: 0.8500 - val_accuracy: 0.7273 - val_dice_coefficient: 0.6648 - val_loss: 0.9218 - val_mean_io_u: 0.4022 - val_mean_squared_error: 0.0788 - val_precision: 0.7410 - val_recall: 0.7142 - learning_rate: 2.0733e-05\n",
      "\n",
      "Epoch 43: LearningRateScheduler setting learning rate to 1.99526231496888e-05.\n",
      "Epoch 43/60\n",
      "\u001B[1m59/59\u001B[0m \u001B[32m━━━━━━━━━━━━━━━━━━━━\u001B[0m\u001B[37m\u001B[0m \u001B[1m0s\u001B[0m 1s/step - accuracy: 0.8674 - dice_coefficient: 0.7896 - loss: 0.3509 - mean_io_u: 0.4013 - mean_squared_error: 0.0379 - precision: 0.8827 - recall: 0.8543\n",
      "Epoch 43: val_loss did not improve from 0.72024\n",
      "\u001B[1m59/59\u001B[0m \u001B[32m━━━━━━━━━━━━━━━━━━━━\u001B[0m\u001B[37m\u001B[0m \u001B[1m109s\u001B[0m 2s/step - accuracy: 0.8673 - dice_coefficient: 0.7895 - loss: 0.3510 - mean_io_u: 0.4014 - mean_squared_error: 0.0379 - precision: 0.8826 - recall: 0.8543 - val_accuracy: 0.7332 - val_dice_coefficient: 0.6747 - val_loss: 0.9240 - val_mean_io_u: 0.4019 - val_mean_squared_error: 0.0764 - val_precision: 0.7472 - val_recall: 0.7203 - learning_rate: 1.9953e-05\n",
      "\n",
      "Epoch 44: LearningRateScheduler setting learning rate to 1.920141938638802e-05.\n",
      "Epoch 44/60\n",
      "\u001B[1m59/59\u001B[0m \u001B[32m━━━━━━━━━━━━━━━━━━━━\u001B[0m\u001B[37m\u001B[0m \u001B[1m0s\u001B[0m 1s/step - accuracy: 0.8611 - dice_coefficient: 0.7840 - loss: 0.3588 - mean_io_u: 0.4019 - mean_squared_error: 0.0394 - precision: 0.8755 - recall: 0.8495\n",
      "Epoch 44: val_loss did not improve from 0.72024\n",
      "\u001B[1m59/59\u001B[0m \u001B[32m━━━━━━━━━━━━━━━━━━━━\u001B[0m\u001B[37m\u001B[0m \u001B[1m110s\u001B[0m 2s/step - accuracy: 0.8610 - dice_coefficient: 0.7839 - loss: 0.3589 - mean_io_u: 0.4019 - mean_squared_error: 0.0394 - precision: 0.8754 - recall: 0.8494 - val_accuracy: 0.7292 - val_dice_coefficient: 0.6660 - val_loss: 0.8580 - val_mean_io_u: 0.4017 - val_mean_squared_error: 0.0772 - val_precision: 0.7447 - val_recall: 0.7111 - learning_rate: 1.9201e-05\n",
      "\n",
      "Epoch 45: LearningRateScheduler setting learning rate to 1.8478497974222914e-05.\n",
      "Epoch 45/60\n",
      "\u001B[1m59/59\u001B[0m \u001B[32m━━━━━━━━━━━━━━━━━━━━\u001B[0m\u001B[37m\u001B[0m \u001B[1m0s\u001B[0m 1s/step - accuracy: 0.8650 - dice_coefficient: 0.7881 - loss: 0.3494 - mean_io_u: 0.4018 - mean_squared_error: 0.0382 - precision: 0.8795 - recall: 0.8548\n",
      "Epoch 45: val_loss did not improve from 0.72024\n",
      "\u001B[1m59/59\u001B[0m \u001B[32m━━━━━━━━━━━━━━━━━━━━\u001B[0m\u001B[37m\u001B[0m \u001B[1m112s\u001B[0m 2s/step - accuracy: 0.8650 - dice_coefficient: 0.7882 - loss: 0.3493 - mean_io_u: 0.4018 - mean_squared_error: 0.0382 - precision: 0.8795 - recall: 0.8548 - val_accuracy: 0.7230 - val_dice_coefficient: 0.6558 - val_loss: 0.9551 - val_mean_io_u: 0.4023 - val_mean_squared_error: 0.0797 - val_precision: 0.7371 - val_recall: 0.7087 - learning_rate: 1.8478e-05\n",
      "\n",
      "Epoch 46: LearningRateScheduler setting learning rate to 1.778279410038923e-05.\n",
      "Epoch 46/60\n",
      "\u001B[1m59/59\u001B[0m \u001B[32m━━━━━━━━━━━━━━━━━━━━\u001B[0m\u001B[37m\u001B[0m \u001B[1m0s\u001B[0m 1s/step - accuracy: 0.8698 - dice_coefficient: 0.7942 - loss: 0.3399 - mean_io_u: 0.4017 - mean_squared_error: 0.0369 - precision: 0.8837 - recall: 0.8604\n",
      "Epoch 46: val_loss did not improve from 0.72024\n",
      "\u001B[1m59/59\u001B[0m \u001B[32m━━━━━━━━━━━━━━━━━━━━\u001B[0m\u001B[37m\u001B[0m \u001B[1m110s\u001B[0m 2s/step - accuracy: 0.8698 - dice_coefficient: 0.7942 - loss: 0.3400 - mean_io_u: 0.4017 - mean_squared_error: 0.0370 - precision: 0.8837 - recall: 0.8604 - val_accuracy: 0.7281 - val_dice_coefficient: 0.6675 - val_loss: 0.9752 - val_mean_io_u: 0.4022 - val_mean_squared_error: 0.0792 - val_precision: 0.7411 - val_recall: 0.7135 - learning_rate: 1.7783e-05\n",
      "\n",
      "Epoch 47: LearningRateScheduler setting learning rate to 1.711328304161781e-05.\n",
      "Epoch 47/60\n",
      "\u001B[1m59/59\u001B[0m \u001B[32m━━━━━━━━━━━━━━━━━━━━\u001B[0m\u001B[37m\u001B[0m \u001B[1m0s\u001B[0m 1s/step - accuracy: 0.8658 - dice_coefficient: 0.7927 - loss: 0.3438 - mean_io_u: 0.4019 - mean_squared_error: 0.0378 - precision: 0.8788 - recall: 0.8583\n",
      "Epoch 47: val_loss did not improve from 0.72024\n",
      "\u001B[1m59/59\u001B[0m \u001B[32m━━━━━━━━━━━━━━━━━━━━\u001B[0m\u001B[37m\u001B[0m \u001B[1m109s\u001B[0m 2s/step - accuracy: 0.8657 - dice_coefficient: 0.7926 - loss: 0.3439 - mean_io_u: 0.4019 - mean_squared_error: 0.0378 - precision: 0.8787 - recall: 0.8582 - val_accuracy: 0.7334 - val_dice_coefficient: 0.6743 - val_loss: 0.9964 - val_mean_io_u: 0.4014 - val_mean_squared_error: 0.0768 - val_precision: 0.7469 - val_recall: 0.7187 - learning_rate: 1.7113e-05\n",
      "\n",
      "Epoch 48: LearningRateScheduler setting learning rate to 1.6468978654828687e-05.\n",
      "Epoch 48/60\n",
      "\u001B[1m59/59\u001B[0m \u001B[32m━━━━━━━━━━━━━━━━━━━━\u001B[0m\u001B[37m\u001B[0m \u001B[1m0s\u001B[0m 1s/step - accuracy: 0.8612 - dice_coefficient: 0.7842 - loss: 0.3666 - mean_io_u: 0.4017 - mean_squared_error: 0.0395 - precision: 0.8769 - recall: 0.8492\n",
      "Epoch 48: val_loss did not improve from 0.72024\n",
      "\u001B[1m59/59\u001B[0m \u001B[32m━━━━━━━━━━━━━━━━━━━━\u001B[0m\u001B[37m\u001B[0m \u001B[1m109s\u001B[0m 2s/step - accuracy: 0.8612 - dice_coefficient: 0.7842 - loss: 0.3664 - mean_io_u: 0.4017 - mean_squared_error: 0.0395 - precision: 0.8769 - recall: 0.8493 - val_accuracy: 0.7344 - val_dice_coefficient: 0.6731 - val_loss: 0.7918 - val_mean_io_u: 0.4020 - val_mean_squared_error: 0.0757 - val_precision: 0.7509 - val_recall: 0.7158 - learning_rate: 1.6469e-05\n",
      "\n",
      "Epoch 49: LearningRateScheduler setting learning rate to 1.5848931924611134e-05.\n",
      "Epoch 49/60\n",
      "\u001B[1m59/59\u001B[0m \u001B[32m━━━━━━━━━━━━━━━━━━━━\u001B[0m\u001B[37m\u001B[0m \u001B[1m0s\u001B[0m 1s/step - accuracy: 0.8717 - dice_coefficient: 0.7986 - loss: 0.3318 - mean_io_u: 0.4016 - mean_squared_error: 0.0364 - precision: 0.8850 - recall: 0.8625\n",
      "Epoch 49: val_loss did not improve from 0.72024\n",
      "\u001B[1m59/59\u001B[0m \u001B[32m━━━━━━━━━━━━━━━━━━━━\u001B[0m\u001B[37m\u001B[0m \u001B[1m110s\u001B[0m 2s/step - accuracy: 0.8717 - dice_coefficient: 0.7986 - loss: 0.3318 - mean_io_u: 0.4016 - mean_squared_error: 0.0363 - precision: 0.8850 - recall: 0.8625 - val_accuracy: 0.7414 - val_dice_coefficient: 0.6826 - val_loss: 1.0610 - val_mean_io_u: 0.4013 - val_mean_squared_error: 0.0744 - val_precision: 0.7544 - val_recall: 0.7275 - learning_rate: 1.5849e-05\n",
      "\n",
      "Epoch 50: LearningRateScheduler setting learning rate to 1.5252229565390191e-05.\n",
      "Epoch 50/60\n",
      "\u001B[1m59/59\u001B[0m \u001B[32m━━━━━━━━━━━━━━━━━━━━\u001B[0m\u001B[37m\u001B[0m \u001B[1m0s\u001B[0m 1s/step - accuracy: 0.8676 - dice_coefficient: 0.7948 - loss: 0.3410 - mean_io_u: 0.4017 - mean_squared_error: 0.0373 - precision: 0.8815 - recall: 0.8588\n",
      "Epoch 50: val_loss did not improve from 0.72024\n",
      "\u001B[1m59/59\u001B[0m \u001B[32m━━━━━━━━━━━━━━━━━━━━\u001B[0m\u001B[37m\u001B[0m \u001B[1m112s\u001B[0m 2s/step - accuracy: 0.8677 - dice_coefficient: 0.7948 - loss: 0.3410 - mean_io_u: 0.4017 - mean_squared_error: 0.0373 - precision: 0.8816 - recall: 0.8588 - val_accuracy: 0.7358 - val_dice_coefficient: 0.6759 - val_loss: 1.0505 - val_mean_io_u: 0.4018 - val_mean_squared_error: 0.0766 - val_precision: 0.7488 - val_recall: 0.7221 - learning_rate: 1.5252e-05\n",
      "\n",
      "Epoch 51: LearningRateScheduler setting learning rate to 1.4677992676220695e-05.\n",
      "Epoch 51/60\n",
      "\u001B[1m59/59\u001B[0m \u001B[32m━━━━━━━━━━━━━━━━━━━━\u001B[0m\u001B[37m\u001B[0m \u001B[1m0s\u001B[0m 1s/step - accuracy: 0.8683 - dice_coefficient: 0.7970 - loss: 0.3335 - mean_io_u: 0.4019 - mean_squared_error: 0.0368 - precision: 0.8826 - recall: 0.8602\n",
      "Epoch 51: val_loss did not improve from 0.72024\n",
      "\u001B[1m59/59\u001B[0m \u001B[32m━━━━━━━━━━━━━━━━━━━━\u001B[0m\u001B[37m\u001B[0m \u001B[1m108s\u001B[0m 2s/step - accuracy: 0.8683 - dice_coefficient: 0.7970 - loss: 0.3335 - mean_io_u: 0.4019 - mean_squared_error: 0.0368 - precision: 0.8826 - recall: 0.8602 - val_accuracy: 0.7314 - val_dice_coefficient: 0.6681 - val_loss: 0.9852 - val_mean_io_u: 0.4019 - val_mean_squared_error: 0.0774 - val_precision: 0.7449 - val_recall: 0.7186 - learning_rate: 1.4678e-05\n",
      "\n",
      "Epoch 52: LearningRateScheduler setting learning rate to 1.4125375446227545e-05.\n",
      "Epoch 52/60\n",
      "\u001B[1m59/59\u001B[0m \u001B[32m━━━━━━━━━━━━━━━━━━━━\u001B[0m\u001B[37m\u001B[0m \u001B[1m0s\u001B[0m 1s/step - accuracy: 0.8720 - dice_coefficient: 0.7988 - loss: 0.3355 - mean_io_u: 0.4016 - mean_squared_error: 0.0364 - precision: 0.8860 - recall: 0.8619\n",
      "Epoch 52: val_loss did not improve from 0.72024\n",
      "\u001B[1m59/59\u001B[0m \u001B[32m━━━━━━━━━━━━━━━━━━━━\u001B[0m\u001B[37m\u001B[0m \u001B[1m110s\u001B[0m 2s/step - accuracy: 0.8720 - dice_coefficient: 0.7988 - loss: 0.3355 - mean_io_u: 0.4016 - mean_squared_error: 0.0364 - precision: 0.8860 - recall: 0.8620 - val_accuracy: 0.7253 - val_dice_coefficient: 0.6635 - val_loss: 1.2560 - val_mean_io_u: 0.4018 - val_mean_squared_error: 0.0797 - val_precision: 0.7395 - val_recall: 0.7096 - learning_rate: 1.4125e-05\n",
      "\n",
      "Epoch 53: LearningRateScheduler setting learning rate to 1.3593563908785256e-05.\n",
      "Epoch 53/60\n",
      "\u001B[1m59/59\u001B[0m \u001B[32m━━━━━━━━━━━━━━━━━━━━\u001B[0m\u001B[37m\u001B[0m \u001B[1m0s\u001B[0m 1s/step - accuracy: 0.8715 - dice_coefficient: 0.7983 - loss: 0.3325 - mean_io_u: 0.4018 - mean_squared_error: 0.0363 - precision: 0.8856 - recall: 0.8618\n",
      "Epoch 53: val_loss did not improve from 0.72024\n",
      "\u001B[1m59/59\u001B[0m \u001B[32m━━━━━━━━━━━━━━━━━━━━\u001B[0m\u001B[37m\u001B[0m \u001B[1m109s\u001B[0m 2s/step - accuracy: 0.8715 - dice_coefficient: 0.7983 - loss: 0.3325 - mean_io_u: 0.4018 - mean_squared_error: 0.0363 - precision: 0.8856 - recall: 0.8619 - val_accuracy: 0.7265 - val_dice_coefficient: 0.6719 - val_loss: 1.0738 - val_mean_io_u: 0.4014 - val_mean_squared_error: 0.0799 - val_precision: 0.7386 - val_recall: 0.7148 - learning_rate: 1.3594e-05\n",
      "\n",
      "Epoch 54: LearningRateScheduler setting learning rate to 1.3081774742601943e-05.\n",
      "Epoch 54/60\n",
      "\u001B[1m59/59\u001B[0m \u001B[32m━━━━━━━━━━━━━━━━━━━━\u001B[0m\u001B[37m\u001B[0m \u001B[1m0s\u001B[0m 1s/step - accuracy: 0.8802 - dice_coefficient: 0.8086 - loss: 0.3114 - mean_io_u: 0.4017 - mean_squared_error: 0.0340 - precision: 0.8927 - recall: 0.8727\n",
      "Epoch 54: val_loss did not improve from 0.72024\n",
      "\u001B[1m59/59\u001B[0m \u001B[32m━━━━━━━━━━━━━━━━━━━━\u001B[0m\u001B[37m\u001B[0m \u001B[1m109s\u001B[0m 2s/step - accuracy: 0.8801 - dice_coefficient: 0.8086 - loss: 0.3115 - mean_io_u: 0.4017 - mean_squared_error: 0.0340 - precision: 0.8926 - recall: 0.8726 - val_accuracy: 0.7275 - val_dice_coefficient: 0.6734 - val_loss: 1.5360 - val_mean_io_u: 0.4013 - val_mean_squared_error: 0.0798 - val_precision: 0.7400 - val_recall: 0.7160 - learning_rate: 1.3082e-05\n",
      "\n",
      "Epoch 55: LearningRateScheduler setting learning rate to 1.2589254117941673e-05.\n",
      "Epoch 55/60\n",
      "\u001B[1m59/59\u001B[0m \u001B[32m━━━━━━━━━━━━━━━━━━━━\u001B[0m\u001B[37m\u001B[0m \u001B[1m0s\u001B[0m 1s/step - accuracy: 0.8802 - dice_coefficient: 0.8107 - loss: 0.3118 - mean_io_u: 0.4015 - mean_squared_error: 0.0340 - precision: 0.8933 - recall: 0.8708\n",
      "Epoch 55: val_loss did not improve from 0.72024\n",
      "\u001B[1m59/59\u001B[0m \u001B[32m━━━━━━━━━━━━━━━━━━━━\u001B[0m\u001B[37m\u001B[0m \u001B[1m110s\u001B[0m 2s/step - accuracy: 0.8801 - dice_coefficient: 0.8107 - loss: 0.3120 - mean_io_u: 0.4015 - mean_squared_error: 0.0340 - precision: 0.8932 - recall: 0.8707 - val_accuracy: 0.7379 - val_dice_coefficient: 0.6808 - val_loss: 0.9239 - val_mean_io_u: 0.4019 - val_mean_squared_error: 0.0757 - val_precision: 0.7511 - val_recall: 0.7260 - learning_rate: 1.2589e-05\n",
      "\n",
      "Epoch 56: LearningRateScheduler setting learning rate to 1.2115276586285887e-05.\n",
      "Epoch 56/60\n",
      "\u001B[1m59/59\u001B[0m \u001B[32m━━━━━━━━━━━━━━━━━━━━\u001B[0m\u001B[37m\u001B[0m \u001B[1m0s\u001B[0m 1s/step - accuracy: 0.8804 - dice_coefficient: 0.8128 - loss: 0.3109 - mean_io_u: 0.4017 - mean_squared_error: 0.0339 - precision: 0.8924 - recall: 0.8732\n",
      "Epoch 56: val_loss did not improve from 0.72024\n",
      "\u001B[1m59/59\u001B[0m \u001B[32m━━━━━━━━━━━━━━━━━━━━\u001B[0m\u001B[37m\u001B[0m \u001B[1m110s\u001B[0m 2s/step - accuracy: 0.8803 - dice_coefficient: 0.8127 - loss: 0.3111 - mean_io_u: 0.4017 - mean_squared_error: 0.0339 - precision: 0.8924 - recall: 0.8731 - val_accuracy: 0.7255 - val_dice_coefficient: 0.6710 - val_loss: 1.1051 - val_mean_io_u: 0.4013 - val_mean_squared_error: 0.0796 - val_precision: 0.7401 - val_recall: 0.7114 - learning_rate: 1.2115e-05\n",
      "\n",
      "Epoch 57: LearningRateScheduler setting learning rate to 1.1659144011798317e-05.\n",
      "Epoch 57/60\n",
      "\u001B[1m59/59\u001B[0m \u001B[32m━━━━━━━━━━━━━━━━━━━━\u001B[0m\u001B[37m\u001B[0m \u001B[1m0s\u001B[0m 1s/step - accuracy: 0.8739 - dice_coefficient: 0.8035 - loss: 0.3259 - mean_io_u: 0.4018 - mean_squared_error: 0.0356 - precision: 0.8869 - recall: 0.8658\n",
      "Epoch 57: val_loss did not improve from 0.72024\n",
      "\u001B[1m59/59\u001B[0m \u001B[32m━━━━━━━━━━━━━━━━━━━━\u001B[0m\u001B[37m\u001B[0m \u001B[1m110s\u001B[0m 2s/step - accuracy: 0.8739 - dice_coefficient: 0.8035 - loss: 0.3259 - mean_io_u: 0.4018 - mean_squared_error: 0.0356 - precision: 0.8869 - recall: 0.8658 - val_accuracy: 0.7261 - val_dice_coefficient: 0.6677 - val_loss: 1.1273 - val_mean_io_u: 0.4020 - val_mean_squared_error: 0.0796 - val_precision: 0.7396 - val_recall: 0.7120 - learning_rate: 1.1659e-05\n",
      "Epoch 57: early stopping\n",
      "Restoring model weights from the end of the best epoch: 39.\n"
     ]
    }
   ],
   "source": [
    "history = model.fit(\n",
    "    TrainAugmentGenerator(train_images = train_images, train_masks = train_masks, target_size = (512, 512)),\n",
    "    steps_per_epoch=steps_per_epoch,\n",
    "    validation_data = ValAugmentGenerator(val_images = val_images, val_masks = val_masks, target_size = (512, 512)),\n",
    "    validation_steps = validation_steps,\n",
    "    epochs = 60,\n",
    "    callbacks=callbacks,\n",
    "    verbose=1\n",
    ")"
   ]
  },
  {
   "cell_type": "code",
   "execution_count": 22,
   "id": "2d71f791",
   "metadata": {
    "execution": {
     "iopub.execute_input": "2024-07-19T14:59:21.593082Z",
     "iopub.status.busy": "2024-07-19T14:59:21.592681Z",
     "iopub.status.idle": "2024-07-19T15:02:01.842381Z",
     "shell.execute_reply": "2024-07-19T15:02:01.841346Z"
    },
    "papermill": {
     "duration": 160.574481,
     "end_time": "2024-07-19T15:02:01.846191",
     "exception": false,
     "start_time": "2024-07-19T14:59:21.271710",
     "status": "completed"
    },
    "tags": []
   },
   "outputs": [],
   "source": [
    "model.load_weights(\"/kaggle/working/InceptionResNetV2-UNet.keras\")"
   ]
  },
  {
   "cell_type": "code",
   "execution_count": 23,
   "id": "ddbcd382",
   "metadata": {
    "execution": {
     "iopub.execute_input": "2024-07-19T15:02:02.482361Z",
     "iopub.status.busy": "2024-07-19T15:02:02.481600Z",
     "iopub.status.idle": "2024-07-19T15:02:03.435889Z",
     "shell.execute_reply": "2024-07-19T15:02:03.435048Z"
    },
    "papermill": {
     "duration": 1.273719,
     "end_time": "2024-07-19T15:02:03.438197",
     "exception": false,
     "start_time": "2024-07-19T15:02:02.164478",
     "status": "completed"
    },
    "tags": []
   },
   "outputs": [],
   "source": [
    "images_dir = '/kaggle/input/images/images'\n",
    "masks_dir = '/kaggle/input/masks/masks'\n",
    "\n",
    "\n",
    "# Получение всех путей к изображениям и маскам\n",
    "images = [os.path.join(images_dir, f) for f in os.listdir(images_dir) if os.path.isfile(os.path.join(images_dir, f))]\n",
    "masks = [os.path.join(masks_dir, f) for f in os.listdir(masks_dir) if os.path.isfile(os.path.join(masks_dir, f))]\n",
    "\n",
    "images.sort()\n",
    "masks.sort()\n",
    "\n",
    "# Смешивание изображений и их масок\n",
    "data = list(zip(images, masks))\n",
    "\n",
    "# Разделение на train и val\n",
    "train_data, val_data = train_test_split(data, test_size=0.2, random_state=42)\n",
    "\n",
    "train_images, train_masks = zip(*train_data)\n",
    "val_images, val_masks = zip(*val_data)\n"
   ]
  },
  {
   "cell_type": "code",
   "execution_count": 24,
   "id": "ddb46bcc",
   "metadata": {
    "execution": {
     "iopub.execute_input": "2024-07-19T15:02:04.080282Z",
     "iopub.status.busy": "2024-07-19T15:02:04.079585Z",
     "iopub.status.idle": "2024-07-19T15:02:04.084204Z",
     "shell.execute_reply": "2024-07-19T15:02:04.083303Z"
    },
    "papermill": {
     "duration": 0.326882,
     "end_time": "2024-07-19T15:02:04.086351",
     "exception": false,
     "start_time": "2024-07-19T15:02:03.759469",
     "status": "completed"
    },
    "tags": []
   },
   "outputs": [],
   "source": [
    "testing_gen = ValAugmentGenerator(val_images = val_images, \n",
    "                                  val_masks = val_masks, \n",
    "                                  target_size = (512, 512))"
   ]
  }
 ],
 "metadata": {
  "kaggle": {
   "accelerator": "nvidiaTeslaT4",
   "dataSources": [
    {
     "datasetId": 5299506,
     "sourceId": 8810584,
     "sourceType": "datasetVersion"
    }
   ],
   "isGpuEnabled": true,
   "isInternetEnabled": true,
   "language": "python",
   "sourceType": "notebook"
  },
  "kernelspec": {
   "display_name": "Python 3",
   "language": "python",
   "name": "python3"
  },
  "language_info": {
   "codemirror_mode": {
    "name": "ipython",
    "version": 3
   },
   "file_extension": ".py",
   "mimetype": "text/x-python",
   "name": "python",
   "nbconvert_exporter": "python",
   "pygments_lexer": "ipython3",
   "version": "3.10.13"
  },
  "papermill": {
   "default_parameters": {},
   "duration": 6955.915043,
   "end_time": "2024-07-19T15:03:01.573791",
   "environment_variables": {},
   "exception": null,
   "input_path": "__notebook__.ipynb",
   "output_path": "__notebook__.ipynb",
   "parameters": {},
   "start_time": "2024-07-19T13:07:05.658748",
   "version": "2.5.0"
  }
 },
 "nbformat": 4,
 "nbformat_minor": 5
}
